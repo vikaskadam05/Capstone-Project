{
 "cells": [
  {
   "cell_type": "code",
   "execution_count": 13,
   "id": "43af209b",
   "metadata": {},
   "outputs": [],
   "source": [
    "import selenium\n",
    "import pandas as pd\n",
    "from selenium import webdriver\n",
    "from selenium.webdriver.common.by import By\n",
    "import time\n",
    "import warnings\n",
    "warnings.filterwarnings('ignore')\n",
    "from selenium.common.exceptions import StaleElementReferenceException, NoSuchElementException\n",
    "from bs4 import BeautifulSoup\n",
    "import requests\n",
    "from selenium.webdriver.support.ui import WebDriverWait\n",
    "from selenium.webdriver.support import expected_conditions as EC\n",
    "from selenium.common.exceptions import TimeoutException\n",
    "import regex as re\n",
    "from selenium.webdriver.common.keys import Keys"
   ]
  },
  {
   "cell_type": "code",
   "execution_count": 64,
   "id": "bd850a7f",
   "metadata": {},
   "outputs": [],
   "source": [
    "#Opening the Ajio website on automated Chrome browser\n",
    "driver=webdriver.Chrome()\n",
    "driver.get(\"https://www.ajio.com/\")"
   ]
  },
  {
   "cell_type": "code",
   "execution_count": 65,
   "id": "0af726f8",
   "metadata": {},
   "outputs": [],
   "source": [
    "# Entering Men Shrits to serach man clothing \n",
    "itemsearch=driver.find_element(By.XPATH,\"/html/body/div[1]/div/div/div[1]/div/header/div[3]/div[2]/form/div/div/input\")\n",
    "itemsearch.send_keys('men shirts')\n",
    "\n",
    "search=driver.find_element(By.XPATH,'/html/body/div[1]/div/div/div[1]/div/header/div[3]/div[2]/form/div/button')\n",
    "search.click()"
   ]
  },
  {
   "cell_type": "code",
   "execution_count": 87,
   "id": "cbc2fe2a",
   "metadata": {},
   "outputs": [],
   "source": [
    "#Searching URL pertaining to men shirts\n",
    "itemurl=[]\n",
    "url=driver.find_elements(By.XPATH,'//div[@role=\"gridcell\"]/a')\n",
    "for i in url:\n",
    "    itemurl.append(i.get_attribute('href'))"
   ]
  },
  {
   "cell_type": "code",
   "execution_count": 24,
   "id": "722e0aee",
   "metadata": {},
   "outputs": [],
   "source": [
    "#Creating Variable where data will store\n",
    "brand=[]\n",
    "cat=[]\n",
    "ptype=[]\n",
    "pname=[]\n",
    "code=[]\n",
    "price=[]\n",
    "c1=[]\n",
    "c2=[]\n",
    "c3=[]\n",
    "c4=[]\n",
    "weartype=[]\n",
    "mtype=[]\n",
    "review=[]\n",
    "size1=[]\n",
    "size2=[]\n",
    "size3=[]\n",
    "size4=[]\n",
    "country=[]\n",
    "returnply=[]\n",
    "occasion=[]"
   ]
  },
  {
   "cell_type": "code",
   "execution_count": 125,
   "id": "9f342cb0",
   "metadata": {},
   "outputs": [],
   "source": [
    "#Collection data base on above details\n",
    "for i in itemurl:\n",
    "    driver.get(i)\n",
    "    time.sleep(5)\n",
    "    try:\n",
    "        brand_tag=driver.find_element(By.XPATH,'/html/body/div[1]/div/div/div[2]/div/div/div[2]/div/div[3]/div/h2')\n",
    "        brand.append(brand_tag.text)\n",
    "    except NoSuchElementException:\n",
    "        brand.append('-')\n",
    "    try:\n",
    "        cat_tag=driver.find_element(By.XPATH,'/html/body/div[1]/div/div/div[2]/div/div/div[1]/ul/li[2]/a')\n",
    "        cat.append(cat_tag.text)\n",
    "    except NoSuchElementException:\n",
    "        cat.append('-')\n",
    "    try:\n",
    "        ptype_tag=driver.find_element(By.XPATH,'/html/body/div[1]/div/div/div[2]/div/div/div[1]/ul/li[4]/a')\n",
    "        ptype.append(ptype_tag.text)\n",
    "    except NoSuchElementException:\n",
    "        ptype.append('-')        \n",
    "    try:\n",
    "        pname_tag=driver.find_element(By.XPATH,'/html/body/div[1]/div/div/div[2]/div/div/div[2]/div/div[3]/div/h1')\n",
    "        pname.append(pname_tag.text)\n",
    "    except NoSuchElementException:\n",
    "        pname.append('-')                \n",
    "    try:\n",
    "        code_tag=driver.find_element(By.XPATH,'/html/body/div[1]/div/div/div[2]/div/div/div[2]/div/div[3]/div/section/h2[2]/ul/li[5]/span')\n",
    "        code.append(code_tag.text.replace('Product Code: ',''))\n",
    "    except NoSuchElementException:\n",
    "        code.append('-')    \n",
    "    try:\n",
    "        price_tag=driver.find_element(By.XPATH,'/html/body/div[1]/div/div/div[2]/div/div/div[2]/div/div[3]/div/div[2]/div[1]')\n",
    "        price.append(price_tag.text)\n",
    "    except NoSuchElementException:\n",
    "        price.append('-')    \n",
    "    try:\n",
    "        c1_tag=driver.find_element(By.XPATH,'/html/body/div[1]/div/div/div[2]/div/div/div[2]/div/div[3]/div/p')\n",
    "        c1.append(c1_tag.text)\n",
    "    except NoSuchElementException:\n",
    "        c1.append('-') \n",
    "    try:\n",
    "        weartype_tag=driver.find_element(By.XPATH,'/html/body/div[1]/div/div/div[2]/div/div/div[1]/ul/li[4]/a')\n",
    "        weartype.append(weartype_tag.text.replace('Shirts','Top Wear'))\n",
    "    except NoSuchElementException:\n",
    "        weartype.append('-')   \n",
    "    try:\n",
    "        mtype_tag=driver.find_element(By.XPATH,'/html/body/div[1]/div/div/div[2]/div/div/div[2]/div/div[3]/div/section/h2[2]/ul/li[4]')\n",
    "        mtype.append(mtype_tag.text)\n",
    "    except NoSuchElementException:\n",
    "        mtype.append('-')    \n",
    "    try:\n",
    "        review_tag=driver.find_element(By.XPATH,'/html/body/div[1]/div/div/div[2]/div/div/div[2]/div/div[3]/div/div[1]/div[2]/span')\n",
    "        review.append(review_tag.text)\n",
    "    except NoSuchElementException:\n",
    "        review.append('-')  \n",
    "    try:\n",
    "        size1_tag=driver.find_element(By.XPATH,'//div[@class=\"size-variant-block\"]/div[2]')\n",
    "        size1.append(size1_tag.text)\n",
    "    except NoSuchElementException:\n",
    "        size1.append('-')  \n",
    "    try:\n",
    "        size2_tag=driver.find_element(By.XPATH,'//div[@class=\"size-variant-block\"]/div[3]')\n",
    "        size2.append(size2_tag.text)\n",
    "    except NoSuchElementException:\n",
    "        size2.append('-') \n",
    "    try:\n",
    "        size3_tag=driver.find_element(By.XPATH,'//div[@class=\"size-variant-block\"]/div[4]')\n",
    "        size3.append(size3_tag.text)\n",
    "    except NoSuchElementException:\n",
    "        size3.append('-')  \n",
    "    try:\n",
    "        size4_tag=driver.find_element(By.XPATH,'//div[@class=\"size-variant-block\"]/div[5]')\n",
    "        size4.append(size4_tag.text)\n",
    "    except NoSuchElementException:\n",
    "        size4.append('-')  \n",
    "    try:\n",
    "        country_tag=driver.find_element(By.XPATH,'/html/body/div[1]/div/div/div[2]/div/div/div[2]/div/div[3]/div/section/h2[1]/strong')\n",
    "        country.append(country_tag.text)\n",
    "    except NoSuchElementException:\n",
    "        country.append('-')  \n",
    "    try:\n",
    "        returnply_tag=driver.find_element(By.XPATH,'/html/body/div[1]/div/div/div[2]/div/div/div[2]/div/div[2]/div/div[2]/div[4]/div/div[1]/div')\n",
    "        returnply.append(returnply_tag.text.replace(' Return Policies may vary based on products and promotions. For full details on our Returns Policies, please click here․',''))\n",
    "    except NoSuchElementException:\n",
    "        returnply.append('-') \n",
    "    try:\n",
    "        occasion_tag=driver.find_element(By.XPATH,'/html/body/div[1]/div/div/div[2]/div/div/div[2]/div/div[3]/div/section/h2[2]/ul/li[1]')\n",
    "        occasion.append(occasion_tag.text)\n",
    "    except NoSuchElementException:\n",
    "        occasion.append('-') "
   ]
  },
  {
   "cell_type": "code",
   "execution_count": 271,
   "id": "d43602bc",
   "metadata": {},
   "outputs": [
    {
     "name": "stdout",
     "output_type": "stream",
     "text": [
      "1401 1401 1401 1401 1401 1401 1401 1401 1401 1401 1401 1401 1401 1401 1401 1400 1400 1400\n"
     ]
    }
   ],
   "source": [
    "#Checking lenth of the data\n",
    "print(len(brand),len(cat),len(ptype),len(pname),len(code),len(price),len(c1),len(weartype),len(mtype),len(review),len(code),len(size1),len(size2),len(size3),len(size4),len(country),len(returnply),len(occasion))"
   ]
  },
  {
   "cell_type": "code",
   "execution_count": 130,
   "id": "a673dac5",
   "metadata": {},
   "outputs": [],
   "source": [
    "#Creating dataframe for first table\n",
    "df1=pd.DataFrame({'BrandName':brand,'Category':cat,'ProductType':ptype,'ProductName':pname,'Productcode':code,'Price':price})"
   ]
  },
  {
   "cell_type": "code",
   "execution_count": 132,
   "id": "d90074ee",
   "metadata": {},
   "outputs": [],
   "source": [
    "#Creating dataframe for second table\n",
    "df2=pd.DataFrame({'Color1':c1,'Weartype':weartype,'Material type':mtype,'reviews':review})"
   ]
  },
  {
   "cell_type": "code",
   "execution_count": 150,
   "id": "c3f86e06",
   "metadata": {},
   "outputs": [],
   "source": [
    "#Creating dataframe for third table\n",
    "df3=pd.DataFrame({'Size1':s1,'Size2':s2,'Size3':s3,'Size4':s4,'Country of Origin':country,'Return time':returnply,'Occasion':occasion})"
   ]
  },
  {
   "cell_type": "code",
   "execution_count": 152,
   "id": "59e11ab4",
   "metadata": {},
   "outputs": [],
   "source": [
    "#Savind all Dataframe in CSV Files\n",
    "df1.to_csv('mencloth1.csv')"
   ]
  },
  {
   "cell_type": "code",
   "execution_count": 153,
   "id": "a6645f10",
   "metadata": {},
   "outputs": [],
   "source": [
    "df2.to_csv('mencloth2.csv')"
   ]
  },
  {
   "cell_type": "code",
   "execution_count": 265,
   "id": "c62e52d0",
   "metadata": {},
   "outputs": [],
   "source": [
    "df3.to_csv('mencloth3.csv')"
   ]
  },
  {
   "cell_type": "code",
   "execution_count": 156,
   "id": "8fc055f8",
   "metadata": {},
   "outputs": [],
   "source": [
    "# Entering women clothing to search women related clotings\n",
    "itemsearch=driver.find_element(By.XPATH,\"/html/body/div[1]/div/div/div[1]/div/header/div[3]/div[2]/form/div/div/input\")\n",
    "itemsearch.send_keys('women clothing')\n",
    "\n",
    "search=driver.find_element(By.XPATH,'/html/body/div[1]/div/div/div[1]/div/header/div[3]/div[2]/form/div/button')\n",
    "search.click()"
   ]
  },
  {
   "cell_type": "code",
   "execution_count": 193,
   "id": "9e7c31ba",
   "metadata": {},
   "outputs": [],
   "source": [
    "#Collection URLs pertaining to women clotings)\n",
    "itemurl=[]\n",
    "url=driver.find_elements(By.XPATH,'//div[@role=\"gridcell\"]/a')\n",
    "for i in url:\n",
    "    itemurl.append(i.get_attribute('href'))"
   ]
  },
  {
   "cell_type": "code",
   "execution_count": 195,
   "id": "a4a43778",
   "metadata": {},
   "outputs": [],
   "source": [
    "#Creating Variable where data will store\n",
    "brand1=[]\n",
    "cat1=[]\n",
    "ptype1=[]\n",
    "pname1=[]\n",
    "code1=[]\n",
    "price1=[]\n",
    "c11=[]\n",
    "c2=[]\n",
    "c3=[]\n",
    "c4=[]\n",
    "weartype1=[]\n",
    "mtype1=[]\n",
    "review1=[]\n",
    "size11=[]\n",
    "size21=[]\n",
    "size31=[]\n",
    "size41=[]\n",
    "country1=[]\n",
    "returnply1=[]\n",
    "occasion1=[]"
   ]
  },
  {
   "cell_type": "code",
   "execution_count": 249,
   "id": "67626513",
   "metadata": {},
   "outputs": [],
   "source": [
    "#Collection data base on above details\n",
    "for i in itemurl:\n",
    "    driver.get(i)\n",
    "    time.sleep(5)\n",
    "    try:\n",
    "        brand1_tag=driver.find_element(By.XPATH,'/html/body/div[1]/div/div/div[2]/div/div/div[2]/div/div[3]/div/h2')\n",
    "        brand1.append(brand1_tag.text)\n",
    "    except NoSuchElementException:\n",
    "        brand1.append('-')\n",
    "    try:\n",
    "        cat1_tag=driver.find_element(By.XPATH,'/html/body/div[1]/div/div/div[2]/div/div/div[1]/ul/li[2]/a')\n",
    "        cat1.append(cat1_tag.text)\n",
    "    except NoSuchElementException:\n",
    "        cat1.append('-')\n",
    "    try:\n",
    "        ptype1_tag=driver.find_element(By.XPATH,'/html/body/div[1]/div/div/div[2]/div/div/div[1]/ul/li[4]/a')\n",
    "        ptype1.append(ptype1_tag.text)\n",
    "    except NoSuchElementException:\n",
    "        ptype1.append('-')        \n",
    "    try:\n",
    "        pname1_tag=driver.find_element(By.XPATH,'/html/body/div[1]/div/div/div[2]/div/div/div[2]/div/div[3]/div/h1')\n",
    "        pname1.append(pname1_tag.text)\n",
    "    except NoSuchElementException:\n",
    "        pname1.append('-')                \n",
    "    try:\n",
    "        code1_tag=driver.find_element(By.XPATH,'//ul[@class=\"prod-list\"]/li[3]')\n",
    "        code1.append(code1_tag.text.replace('Product Code: ',''))\n",
    "    except NoSuchElementException:\n",
    "        code1.append('-')    \n",
    "    try:\n",
    "        price1_tag=driver.find_element(By.XPATH,'/html/body/div[1]/div/div/div[2]/div/div/div[2]/div/div[3]/div/div[2]/div[1]')\n",
    "        price1.append(price1_tag.text)\n",
    "    except NoSuchElementException:\n",
    "        price1.append('-')    \n",
    "    try:\n",
    "        c11_tag=driver.find_element(By.XPATH,'/html/body/div[1]/div/div/div[2]/div/div/div[2]/div/div[3]/div/p')\n",
    "        c11.append(c11_tag.text)\n",
    "    except NoSuchElementException:\n",
    "        c11.append('-') \n",
    "    try:\n",
    "        weartype1_tag=driver.find_element(By.XPATH,'/html/body/div[1]/div/div/div[2]/div/div/div[1]/ul/li[4]/a')\n",
    "        weartype1.append(weartype1_tag.text.replace('Shirts','Top Wear'))\n",
    "    except NoSuchElementException:\n",
    "        weartype1.append('-')   \n",
    "    try:\n",
    "        mtype1_tag=driver.find_element(By.XPATH,'/html/body/div[1]/div/div/div[2]/div/div/div[2]/div/div[3]/div/section/h2[2]/ul/li[4]')\n",
    "        mtype1.append(mtype1_tag.text)\n",
    "    except NoSuchElementException:\n",
    "        mtype1.append('-')    \n",
    "    try:\n",
    "        review1_tag=driver.find_element(By.XPATH,'/html/body/div[1]/div/div/div[2]/div/div/div[2]/div/div[3]/div/div[1]/div[2]/span')\n",
    "        review1.append(review1_tag.text)\n",
    "    except NoSuchElementException:\n",
    "        review1.append('-')  \n",
    "    try:\n",
    "        size11_tag=driver.find_element(By.XPATH,'//div[@class=\"size-variant-block\"]/div[2]')\n",
    "        size11.append(size11_tag.text)\n",
    "    except NoSuchElementException:\n",
    "        size11.append('-')  \n",
    "    try:\n",
    "        size21_tag=driver.find_element(By.XPATH,'//div[@class=\"size-variant-block\"]/div[3]')\n",
    "        size21.append(size21_tag.text)\n",
    "    except NoSuchElementException:\n",
    "        size21.append('-') \n",
    "    try:\n",
    "        size31_tag=driver.find_element(By.XPATH,'//div[@class=\"size-variant-block\"]/div[4]')\n",
    "        size31.append(size31_tag.text)\n",
    "    except NoSuchElementException:\n",
    "        size31.append('-')  \n",
    "    try:\n",
    "        size41_tag=driver.find_element(By.XPATH,'//div[@class=\"size-variant-block\"]/div[5]')\n",
    "        size41.append(size41_tag.text)\n",
    "    except NoSuchElementException:\n",
    "        size41.append('-')  \n",
    "    try:\n",
    "        country1_tag=driver.find_element(By.XPATH,'/html/body/div[1]/div/div/div[2]/div/div/div[2]/div/div[3]/div/section/h2[1]/strong')\n",
    "        country1.append(country1_tag.text)\n",
    "    except NoSuchElementException:\n",
    "        country1.append('-')  \n",
    "    try:\n",
    "        returnply1_tag=driver.find_element(By.XPATH,'/html/body/div[1]/div/div/div[2]/div/div/div[2]/div/div[2]/div/div[2]/div[4]/div/div[1]/div')\n",
    "        returnply1.append(returnply1_tag.text.replace(' Return Policies may vary based on products and promotions. For full details on our Returns Policies, please click here․',''))\n",
    "    except NoSuchElementException:\n",
    "        returnply1.append('-') \n",
    "    try:\n",
    "        occasion1_tag=driver.find_element(By.XPATH,'/html/body/div[1]/div/div/div[2]/div/div/div[2]/div/div[3]/div/section/h2[2]/ul/li[1]')\n",
    "        occasion1.append(occasion1_tag.text)\n",
    "    except NoSuchElementException:\n",
    "        occasion1.append('-') "
   ]
  },
  {
   "cell_type": "code",
   "execution_count": 270,
   "id": "6ca2a19c",
   "metadata": {},
   "outputs": [
    {
     "name": "stdout",
     "output_type": "stream",
     "text": [
      "2063 2054 2054 2054 2054 2054 2054 2054 2054 2054 2054 2054 2054 2054 2054 2054 2054 2054\n"
     ]
    }
   ],
   "source": [
    "print(len(brand1),len(cat1),len(ptype1),len(pname1),len(code1),len(price1),len(c11),len(weartype1),len(mtype1),len(review1),len(code1),len(size11),len(size21),len(size31),len(size41),len(country1),len(returnply1),len(occasion1))"
   ]
  },
  {
   "cell_type": "code",
   "execution_count": 261,
   "id": "15e4f909",
   "metadata": {},
   "outputs": [],
   "source": [
    "bnd1=brand1[:2054]"
   ]
  },
  {
   "cell_type": "code",
   "execution_count": 264,
   "id": "855fa78b",
   "metadata": {},
   "outputs": [],
   "source": [
    "df4=pd.DataFrame({'BrandName':bnd1,'Category':cat1,'ProductType':ptype1,'ProductName':pname1,'Productcode':code1,'Price':price1})"
   ]
  },
  {
   "cell_type": "code",
   "execution_count": 253,
   "id": "187f17f6",
   "metadata": {},
   "outputs": [],
   "source": [
    "df5=pd.DataFrame({'Color1':c11,'Weartype':weartype1,'Material type':mtype1,'reviews':review1})"
   ]
  },
  {
   "cell_type": "code",
   "execution_count": 254,
   "id": "bacbbd65",
   "metadata": {},
   "outputs": [],
   "source": [
    "df6=pd.DataFrame({'Size1':size11,'Size2':size21,'Size3':size31,'Size4':size41,'Country of Origin':country1,'Return time':returnply1,'Occasion':occasion1})"
   ]
  },
  {
   "cell_type": "code",
   "execution_count": 266,
   "id": "30333964",
   "metadata": {},
   "outputs": [],
   "source": [
    "df4.to_csv('mencloth11.csv')"
   ]
  },
  {
   "cell_type": "code",
   "execution_count": 267,
   "id": "50753fef",
   "metadata": {},
   "outputs": [],
   "source": [
    "df5.to_csv('mencloth21.csv')"
   ]
  },
  {
   "cell_type": "code",
   "execution_count": 268,
   "id": "f2435659",
   "metadata": {},
   "outputs": [],
   "source": [
    "df6.to_csv('mencloth31.csv')"
   ]
  },
  {
   "cell_type": "code",
   "execution_count": 272,
   "id": "a892aa5e",
   "metadata": {},
   "outputs": [],
   "source": [
    "# Entering Men T-Shirts in search.\n",
    "itemsearch=driver.find_element(By.XPATH,\"/html/body/div[1]/div/div/div[1]/div/header/div[3]/div[2]/form/div/div/input\")\n",
    "itemsearch.send_keys('men tshirt')\n",
    "\n",
    "search=driver.find_element(By.XPATH,'/html/body/div[1]/div/div/div[1]/div/header/div[3]/div[2]/form/div/button')\n",
    "search.click()"
   ]
  },
  {
   "cell_type": "code",
   "execution_count": 280,
   "id": "a66f51f1",
   "metadata": {},
   "outputs": [],
   "source": [
    "#Searching URL pertaining to men T-shirts\n",
    "itemurl2=[]\n",
    "url=driver.find_elements(By.XPATH,'//div[@role=\"gridcell\"]/a')\n",
    "for i in url:\n",
    "    itemurl2.append(i.get_attribute('href'))"
   ]
  },
  {
   "cell_type": "code",
   "execution_count": 309,
   "id": "fbc031ca",
   "metadata": {},
   "outputs": [],
   "source": [
    "#Creating Variable where data will store\n",
    "bd=[]\n",
    "ct=[]\n",
    "pt=[]\n",
    "pn=[]\n",
    "cd=[]\n",
    "pr=[]\n",
    "cl=[]\n",
    "wt=[]\n",
    "mt=[]\n",
    "rv=[]\n",
    "sz1=[]\n",
    "sz2=[]\n",
    "sz3=[]\n",
    "sz4=[]\n",
    "ct=[]\n",
    "rp=[]\n",
    "oc=[]"
   ]
  },
  {
   "cell_type": "code",
   "execution_count": 310,
   "id": "e1c81504",
   "metadata": {},
   "outputs": [],
   "source": [
    "#Collection data base on above details\n",
    "for i in itemurl2:\n",
    "    driver.get(i)\n",
    "    time.sleep(5)\n",
    "    try:\n",
    "        bd_tag=driver.find_element(By.XPATH,'/html/body/div[1]/div/div/div[2]/div/div/div[2]/div/div[3]/div/h2')\n",
    "        bd.append(bd_tag.text)\n",
    "    except NoSuchElementException:\n",
    "        bd.append('-')\n",
    "    try:\n",
    "        ct_tag=driver.find_element(By.XPATH,'/html/body/div[1]/div/div/div[2]/div/div/div[1]/ul/li[2]/a')\n",
    "        ct.append(ct_tag.text)\n",
    "    except NoSuchElementException:\n",
    "        ct.append('-')\n",
    "    try:\n",
    "        pt_tag=driver.find_element(By.XPATH,'/html/body/div[1]/div/div/div[2]/div/div/div[1]/ul/li[4]/a')\n",
    "        pt.append(pt_tag.text)\n",
    "    except NoSuchElementException:\n",
    "        pt.append('-')        \n",
    "    try:\n",
    "        pn_tag=driver.find_element(By.XPATH,'/html/body/div[1]/div/div/div[2]/div/div/div[2]/div/div[3]/div/h1')\n",
    "        pn.append(pn_tag.text)\n",
    "    except NoSuchElementException:\n",
    "        pn.append('-')                \n",
    "    try:\n",
    "        cd_tag=driver.find_element(By.XPATH,'/html/body/div[1]/div/div/div[2]/div/div/div[2]/div/div[3]/div/section/h2[2]/ul/li[5]/span')\n",
    "        cd.append(cd_tag.text.replace('Product Code: ',''))\n",
    "    except NoSuchElementException:\n",
    "        cd.append('-')    \n",
    "    try:\n",
    "        pr_tag=driver.find_element(By.XPATH,'/html/body/div[1]/div/div/div[2]/div/div/div[2]/div/div[3]/div/div[2]/div[1]')\n",
    "        pr.append(pr_tag.text.replace('₹','').replace('MRP',''))\n",
    "    except NoSuchElementException:\n",
    "        pr.append('-')    \n",
    "    try:\n",
    "        cl_tag=driver.find_element(By.XPATH,'/html/body/div[1]/div/div/div[2]/div/div/div[2]/div/div[3]/div/p')\n",
    "        cl.append(cl_tag.text)\n",
    "    except NoSuchElementException:\n",
    "        cl.append('-') \n",
    "    try:\n",
    "        wt_tag=driver.find_element(By.XPATH,'/html/body/div[1]/div/div/div[2]/div/div/div[1]/ul/li[4]/a')\n",
    "        wt.append(wt_tag.text.replace('Shirts','Top Wear'))\n",
    "    except NoSuchElementException:\n",
    "        wt.append('-')   \n",
    "    try:\n",
    "        mt_tag=driver.find_element(By.XPATH,'/html/body/div[1]/div/div/div[2]/div/div/div[2]/div/div[3]/div/section/h2[2]/ul/li[4]')\n",
    "        mt.append(mt_tag.text)\n",
    "    except NoSuchElementException:\n",
    "        mt.append('-')    \n",
    "    try:\n",
    "        rv_tag=driver.find_element(By.XPATH,'/html/body/div[1]/div/div/div[2]/div/div/div[2]/div/div[3]/div/div[1]/div[2]/span')\n",
    "        rv.append(rv_tag.text)\n",
    "    except NoSuchElementException:\n",
    "        rv.append('-')  \n",
    "    try:\n",
    "        sz1_tag=driver.find_element(By.XPATH,'//div[@class=\"size-variant-block\"]/div[2]')\n",
    "        sz1.append(sz1_tag.text)\n",
    "    except NoSuchElementException:\n",
    "        sz1.append('-')  \n",
    "    try:\n",
    "        sz2_tag=driver.find_element(By.XPATH,'//div[@class=\"size-variant-block\"]/div[3]')\n",
    "        sz2.append(sz2_tag.text)\n",
    "    except NoSuchElementException:\n",
    "        sz2.append('-') \n",
    "    try:\n",
    "        sz3_tag=driver.find_element(By.XPATH,'//div[@class=\"size-variant-block\"]/div[4]')\n",
    "        sz3.append(sz3_tag.text)\n",
    "    except NoSuchElementException:\n",
    "        sz3.append('-')  \n",
    "    try:\n",
    "        sz4_tag=driver.find_element(By.XPATH,'//div[@class=\"size-variant-block\"]/div[5]')\n",
    "        sz4.append(sz4_tag.text)\n",
    "    except NoSuchElementException:\n",
    "        sz4.append('-')  \n",
    "    try:\n",
    "        ct_tag=driver.find_element(By.XPATH,'/html/body/div[1]/div/div/div[2]/div/div/div[2]/div/div[3]/div/section/h2[1]/strong')\n",
    "        ct.append(ct_tag.text.replace('Product Details','India'))\n",
    "    except NoSuchElementException:\n",
    "        ct.append('-')  \n",
    "    try:\n",
    "        rp_tag=driver.find_element(By.XPATH,'/html/body/div[1]/div/div/div[2]/div/div/div[2]/div/div[2]/div/div[2]/div[4]/div/div[1]/div')\n",
    "        rp.append(rp_tag.text.replace(' Return Policies may vary based on products and promotions. For full details on our Returns Policies, please click here․',''))\n",
    "    except NoSuchElementException:\n",
    "        rp.append('-') \n",
    "    try:\n",
    "        oc_tag=driver.find_element(By.XPATH,'/html/body/div[1]/div/div/div[2]/div/div/div[2]/div/div[3]/div/section/h2[2]/ul/li[1]')\n",
    "        oc.append(oc_tag.text)\n",
    "    except NoSuchElementException:\n",
    "        oc.append('-') "
   ]
  },
  {
   "cell_type": "code",
   "execution_count": 330,
   "id": "999ba704",
   "metadata": {},
   "outputs": [
    {
     "name": "stdout",
     "output_type": "stream",
     "text": [
      "1670 1670 1670 1670 1670 1670 1670 1670 1670 1670 1670 1670 1670 1670 1670 1670 1670\n"
     ]
    }
   ],
   "source": [
    "print(len(bd),len(catg),len(pt),len(pn),len(cd),len(pr),len(cl),len(wt),len(mt),len(rv),len(sz1),len(sz2),len(sz3),len(sz4),len(co),len(rp),len(oc))"
   ]
  },
  {
   "cell_type": "code",
   "execution_count": 318,
   "id": "40f322c6",
   "metadata": {},
   "outputs": [],
   "source": [
    "co=[ct[i] for i in range(len(ct)) if i % 2 != 0]"
   ]
  },
  {
   "cell_type": "code",
   "execution_count": 317,
   "id": "4d87a0b6",
   "metadata": {},
   "outputs": [],
   "source": [
    "catg=[ct[i] for i in range(len(ct)) if i % 2 != 1]"
   ]
  },
  {
   "cell_type": "code",
   "execution_count": 321,
   "id": "244e47ba",
   "metadata": {},
   "outputs": [],
   "source": [
    "#Creating DataFrame for men T-Shirts\n",
    "df7=pd.DataFrame({'BrandName':bd,'Category':catg,'ProductType':pt,'ProductName':pn,'Productcode':cd,'Price':pr})"
   ]
  },
  {
   "cell_type": "code",
   "execution_count": 322,
   "id": "95e9dea7",
   "metadata": {},
   "outputs": [],
   "source": [
    "df8=pd.DataFrame({'Color1':cl,'Weartype':wt,'Material type':mt,'reviews':rv})"
   ]
  },
  {
   "cell_type": "code",
   "execution_count": 323,
   "id": "4441f78a",
   "metadata": {},
   "outputs": [],
   "source": [
    "df9=pd.DataFrame({'Size1':sz1,'Size2':sz2,'Size3':sz3,'Size4':sz4,'Country of Origin':co,'Return time':rp,'Occasion':oc})"
   ]
  },
  {
   "cell_type": "code",
   "execution_count": 327,
   "id": "a1d76343",
   "metadata": {},
   "outputs": [],
   "source": [
    "#Savind all Dataframe in CSV Files\n",
    "df7.to_csv('mencloth12.csv')"
   ]
  },
  {
   "cell_type": "code",
   "execution_count": 328,
   "id": "ad108b28",
   "metadata": {},
   "outputs": [],
   "source": [
    "df8.to_csv('mencloth22.csv')"
   ]
  },
  {
   "cell_type": "code",
   "execution_count": 329,
   "id": "eb7c134b",
   "metadata": {},
   "outputs": [],
   "source": [
    "df9.to_csv('mencloth32.csv')"
   ]
  }
 ],
 "metadata": {
  "kernelspec": {
   "display_name": "Python 3 (ipykernel)",
   "language": "python",
   "name": "python3"
  },
  "language_info": {
   "codemirror_mode": {
    "name": "ipython",
    "version": 3
   },
   "file_extension": ".py",
   "mimetype": "text/x-python",
   "name": "python",
   "nbconvert_exporter": "python",
   "pygments_lexer": "ipython3",
   "version": "3.10.9"
  }
 },
 "nbformat": 4,
 "nbformat_minor": 5
}
