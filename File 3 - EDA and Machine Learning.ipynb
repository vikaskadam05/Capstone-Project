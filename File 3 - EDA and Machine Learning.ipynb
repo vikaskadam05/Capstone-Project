{
 "cells": [
  {
   "cell_type": "code",
   "execution_count": 1,
   "id": "17d72e0e",
   "metadata": {},
   "outputs": [],
   "source": [
    "import pandas as pd\n",
    "import numpy as np\n",
    "import matplotlib.pyplot as plt\n",
    "import seaborn as sns\n",
    "import warnings\n",
    "warnings.filterwarnings('ignore')"
   ]
  },
  {
   "cell_type": "code",
   "execution_count": 93,
   "id": "55025dd6",
   "metadata": {},
   "outputs": [],
   "source": [
    "#Importing file1 \n",
    "df1=pd.read_csv('file1.csv')"
   ]
  },
  {
   "cell_type": "code",
   "execution_count": 94,
   "id": "4ab85c4b",
   "metadata": {},
   "outputs": [],
   "source": [
    "#Importing file2 \n",
    "df2=pd.read_csv('file2.csv')"
   ]
  },
  {
   "cell_type": "code",
   "execution_count": 95,
   "id": "e9d23647",
   "metadata": {},
   "outputs": [],
   "source": [
    "#Importing file3 \n",
    "df3=pd.read_csv('file3.csv')"
   ]
  },
  {
   "cell_type": "code",
   "execution_count": 96,
   "id": "3649a9e7",
   "metadata": {},
   "outputs": [],
   "source": [
    "#Merging df1 with df2\n",
    "df_1=df1.merge(df2, how='outer')"
   ]
  },
  {
   "cell_type": "code",
   "execution_count": 97,
   "id": "766ce9fb",
   "metadata": {},
   "outputs": [],
   "source": [
    "#Merging df1 with df3\n",
    "df_1=df1.merge(df3, how='outer')"
   ]
  },
  {
   "cell_type": "code",
   "execution_count": 98,
   "id": "7db1e1c1",
   "metadata": {},
   "outputs": [
    {
     "data": {
      "text/html": [
       "<div>\n",
       "<style scoped>\n",
       "    .dataframe tbody tr th:only-of-type {\n",
       "        vertical-align: middle;\n",
       "    }\n",
       "\n",
       "    .dataframe tbody tr th {\n",
       "        vertical-align: top;\n",
       "    }\n",
       "\n",
       "    .dataframe thead th {\n",
       "        text-align: right;\n",
       "    }\n",
       "</style>\n",
       "<table border=\"1\" class=\"dataframe\">\n",
       "  <thead>\n",
       "    <tr style=\"text-align: right;\">\n",
       "      <th></th>\n",
       "      <th>Sno</th>\n",
       "      <th>BrandName</th>\n",
       "      <th>Category</th>\n",
       "      <th>ProductType</th>\n",
       "      <th>ProductName</th>\n",
       "      <th>Productcode</th>\n",
       "      <th>Price</th>\n",
       "      <th>Size1</th>\n",
       "      <th>Size2</th>\n",
       "      <th>Size3</th>\n",
       "      <th>Size4</th>\n",
       "      <th>CountryofOrigin</th>\n",
       "      <th>Returntime</th>\n",
       "      <th>Occasion</th>\n",
       "    </tr>\n",
       "  </thead>\n",
       "  <tbody>\n",
       "    <tr>\n",
       "      <th>0</th>\n",
       "      <td>1</td>\n",
       "      <td>BOMBAY BEGUM</td>\n",
       "      <td>Men</td>\n",
       "      <td>Shirts</td>\n",
       "      <td>Spread Collar Shirt with Patch Pocket</td>\n",
       "      <td>467162071014</td>\n",
       "      <td>440</td>\n",
       "      <td>S</td>\n",
       "      <td>M</td>\n",
       "      <td>L</td>\n",
       "      <td>XL</td>\n",
       "      <td>India</td>\n",
       "      <td>10</td>\n",
       "      <td>Regular</td>\n",
       "    </tr>\n",
       "    <tr>\n",
       "      <th>1</th>\n",
       "      <td>2</td>\n",
       "      <td>BOMBAY BEGUM</td>\n",
       "      <td>Men</td>\n",
       "      <td>Shirts</td>\n",
       "      <td>Spread Collar Shirt with Patch Pocket</td>\n",
       "      <td>467162071015</td>\n",
       "      <td>440</td>\n",
       "      <td>S</td>\n",
       "      <td>M</td>\n",
       "      <td>L</td>\n",
       "      <td>XL</td>\n",
       "      <td>India</td>\n",
       "      <td>10</td>\n",
       "      <td>Regular</td>\n",
       "    </tr>\n",
       "    <tr>\n",
       "      <th>2</th>\n",
       "      <td>3</td>\n",
       "      <td>BOMBAY BEGUM</td>\n",
       "      <td>Men</td>\n",
       "      <td>Shirts</td>\n",
       "      <td>Men Striped Regular Fit Shirt with Short Sleeves</td>\n",
       "      <td>467162071003</td>\n",
       "      <td>440</td>\n",
       "      <td>S</td>\n",
       "      <td>M</td>\n",
       "      <td>L</td>\n",
       "      <td>XL</td>\n",
       "      <td>India</td>\n",
       "      <td>10</td>\n",
       "      <td>Regular</td>\n",
       "    </tr>\n",
       "    <tr>\n",
       "      <th>3</th>\n",
       "      <td>4</td>\n",
       "      <td>WUXI</td>\n",
       "      <td>Men</td>\n",
       "      <td>Shirts</td>\n",
       "      <td>Cuban Collar Shirt with Short Sleeves</td>\n",
       "      <td>466823595015</td>\n",
       "      <td>456</td>\n",
       "      <td>S</td>\n",
       "      <td>M</td>\n",
       "      <td>L</td>\n",
       "      <td>XL</td>\n",
       "      <td>India</td>\n",
       "      <td>10</td>\n",
       "      <td>Regular</td>\n",
       "    </tr>\n",
       "    <tr>\n",
       "      <th>4</th>\n",
       "      <td>5</td>\n",
       "      <td>THE BEAR HOUSE</td>\n",
       "      <td>Men</td>\n",
       "      <td>Shirts</td>\n",
       "      <td>Men Slim Fit Checked Shirt</td>\n",
       "      <td>461725396005</td>\n",
       "      <td>1073</td>\n",
       "      <td>S</td>\n",
       "      <td>M</td>\n",
       "      <td>L</td>\n",
       "      <td>XL</td>\n",
       "      <td>India</td>\n",
       "      <td>10</td>\n",
       "      <td>Regular</td>\n",
       "    </tr>\n",
       "    <tr>\n",
       "      <th>...</th>\n",
       "      <td>...</td>\n",
       "      <td>...</td>\n",
       "      <td>...</td>\n",
       "      <td>...</td>\n",
       "      <td>...</td>\n",
       "      <td>...</td>\n",
       "      <td>...</td>\n",
       "      <td>...</td>\n",
       "      <td>...</td>\n",
       "      <td>...</td>\n",
       "      <td>...</td>\n",
       "      <td>...</td>\n",
       "      <td>...</td>\n",
       "      <td>...</td>\n",
       "    </tr>\n",
       "    <tr>\n",
       "      <th>5109</th>\n",
       "      <td>5110</td>\n",
       "      <td>NETPLAY</td>\n",
       "      <td>Men</td>\n",
       "      <td>Tshirts</td>\n",
       "      <td>Regular Fit Polo T-Shirt with Embroidered Logo</td>\n",
       "      <td>441146016046</td>\n",
       "      <td>567</td>\n",
       "      <td>XS</td>\n",
       "      <td>S</td>\n",
       "      <td>M</td>\n",
       "      <td>L</td>\n",
       "      <td>India</td>\n",
       "      <td>10</td>\n",
       "      <td>Regular</td>\n",
       "    </tr>\n",
       "    <tr>\n",
       "      <th>5110</th>\n",
       "      <td>5111</td>\n",
       "      <td>GAP</td>\n",
       "      <td>Men</td>\n",
       "      <td>Tshirts</td>\n",
       "      <td>Regular Fit Logo Print Crew-Neck T-Shirt</td>\n",
       "      <td>465700924001</td>\n",
       "      <td>650</td>\n",
       "      <td>S</td>\n",
       "      <td>M</td>\n",
       "      <td>L</td>\n",
       "      <td>XL</td>\n",
       "      <td>India</td>\n",
       "      <td>10</td>\n",
       "      <td>Casual</td>\n",
       "    </tr>\n",
       "    <tr>\n",
       "      <th>5111</th>\n",
       "      <td>5112</td>\n",
       "      <td>TROND</td>\n",
       "      <td>Men</td>\n",
       "      <td>Tshirts</td>\n",
       "      <td>Men Typographic Print Oversized Fit T-Shirt</td>\n",
       "      <td>-</td>\n",
       "      <td>604</td>\n",
       "      <td>S</td>\n",
       "      <td>M</td>\n",
       "      <td>L</td>\n",
       "      <td>XL</td>\n",
       "      <td>India</td>\n",
       "      <td>10</td>\n",
       "      <td>Casual</td>\n",
       "    </tr>\n",
       "    <tr>\n",
       "      <th>5112</th>\n",
       "      <td>5113</td>\n",
       "      <td>SNITCH</td>\n",
       "      <td>Men</td>\n",
       "      <td>Tshirts</td>\n",
       "      <td>Regular Fit Casual Polo T-Shirt</td>\n",
       "      <td>-</td>\n",
       "      <td>911</td>\n",
       "      <td>S</td>\n",
       "      <td>M</td>\n",
       "      <td>L</td>\n",
       "      <td>XL</td>\n",
       "      <td>India</td>\n",
       "      <td>10</td>\n",
       "      <td>Casual</td>\n",
       "    </tr>\n",
       "    <tr>\n",
       "      <th>5113</th>\n",
       "      <td>5114</td>\n",
       "      <td>SNITCH</td>\n",
       "      <td>Men</td>\n",
       "      <td>Tshirts</td>\n",
       "      <td>Men Regular Fit Polo T-Shirt</td>\n",
       "      <td>-</td>\n",
       "      <td>-</td>\n",
       "      <td>S</td>\n",
       "      <td>M</td>\n",
       "      <td>L</td>\n",
       "      <td>XL</td>\n",
       "      <td>India</td>\n",
       "      <td>10</td>\n",
       "      <td>Casual</td>\n",
       "    </tr>\n",
       "  </tbody>\n",
       "</table>\n",
       "<p>5114 rows × 14 columns</p>\n",
       "</div>"
      ],
      "text/plain": [
       "       Sno       BrandName Category ProductType  \\\n",
       "0        1    BOMBAY BEGUM      Men      Shirts   \n",
       "1        2    BOMBAY BEGUM      Men      Shirts   \n",
       "2        3    BOMBAY BEGUM      Men      Shirts   \n",
       "3        4            WUXI      Men      Shirts   \n",
       "4        5  THE BEAR HOUSE      Men      Shirts   \n",
       "...    ...             ...      ...         ...   \n",
       "5109  5110         NETPLAY      Men     Tshirts   \n",
       "5110  5111             GAP      Men     Tshirts   \n",
       "5111  5112           TROND      Men     Tshirts   \n",
       "5112  5113          SNITCH      Men     Tshirts   \n",
       "5113  5114          SNITCH      Men     Tshirts   \n",
       "\n",
       "                                           ProductName   Productcode Price  \\\n",
       "0                Spread Collar Shirt with Patch Pocket  467162071014   440   \n",
       "1                Spread Collar Shirt with Patch Pocket  467162071015   440   \n",
       "2     Men Striped Regular Fit Shirt with Short Sleeves  467162071003   440   \n",
       "3                Cuban Collar Shirt with Short Sleeves  466823595015   456   \n",
       "4                           Men Slim Fit Checked Shirt  461725396005  1073   \n",
       "...                                                ...           ...   ...   \n",
       "5109    Regular Fit Polo T-Shirt with Embroidered Logo  441146016046   567   \n",
       "5110          Regular Fit Logo Print Crew-Neck T-Shirt  465700924001   650   \n",
       "5111       Men Typographic Print Oversized Fit T-Shirt             -   604   \n",
       "5112                   Regular Fit Casual Polo T-Shirt             -   911   \n",
       "5113                      Men Regular Fit Polo T-Shirt             -     -   \n",
       "\n",
       "     Size1 Size2 Size3 Size4 CountryofOrigin  Returntime Occasion  \n",
       "0        S     M     L    XL           India          10  Regular  \n",
       "1        S     M     L    XL           India          10  Regular  \n",
       "2        S     M     L    XL           India          10  Regular  \n",
       "3        S     M     L    XL           India          10  Regular  \n",
       "4        S     M     L    XL           India          10  Regular  \n",
       "...    ...   ...   ...   ...             ...         ...      ...  \n",
       "5109    XS     S     M     L           India          10  Regular  \n",
       "5110     S     M     L    XL           India          10   Casual  \n",
       "5111     S     M     L    XL           India          10   Casual  \n",
       "5112     S     M     L    XL           India          10   Casual  \n",
       "5113     S     M     L    XL           India          10   Casual  \n",
       "\n",
       "[5114 rows x 14 columns]"
      ]
     },
     "execution_count": 98,
     "metadata": {},
     "output_type": "execute_result"
    }
   ],
   "source": [
    "df_1"
   ]
  },
  {
   "cell_type": "code",
   "execution_count": 99,
   "id": "8c3915f2",
   "metadata": {},
   "outputs": [
    {
     "data": {
      "text/plain": [
       "(5114, 14)"
      ]
     },
     "execution_count": 99,
     "metadata": {},
     "output_type": "execute_result"
    }
   ],
   "source": [
    "df_1.shape"
   ]
  },
  {
   "cell_type": "code",
   "execution_count": 100,
   "id": "19023c09",
   "metadata": {},
   "outputs": [],
   "source": [
    "#I am removing 'Sno' & 'Productcode' columns which I think not required to build the model.\n",
    "df_1.drop('Sno', axis=1, inplace=True)\n",
    "df_1.drop('Productcode', axis=1, inplace=True)"
   ]
  },
  {
   "cell_type": "code",
   "execution_count": 101,
   "id": "4ead0a9e",
   "metadata": {},
   "outputs": [
    {
     "data": {
      "text/html": [
       "<div>\n",
       "<style scoped>\n",
       "    .dataframe tbody tr th:only-of-type {\n",
       "        vertical-align: middle;\n",
       "    }\n",
       "\n",
       "    .dataframe tbody tr th {\n",
       "        vertical-align: top;\n",
       "    }\n",
       "\n",
       "    .dataframe thead th {\n",
       "        text-align: right;\n",
       "    }\n",
       "</style>\n",
       "<table border=\"1\" class=\"dataframe\">\n",
       "  <thead>\n",
       "    <tr style=\"text-align: right;\">\n",
       "      <th></th>\n",
       "      <th>BrandName</th>\n",
       "      <th>Category</th>\n",
       "      <th>ProductType</th>\n",
       "      <th>ProductName</th>\n",
       "      <th>Price</th>\n",
       "      <th>Size1</th>\n",
       "      <th>Size2</th>\n",
       "      <th>Size3</th>\n",
       "      <th>Size4</th>\n",
       "      <th>CountryofOrigin</th>\n",
       "      <th>Returntime</th>\n",
       "      <th>Occasion</th>\n",
       "    </tr>\n",
       "  </thead>\n",
       "  <tbody>\n",
       "    <tr>\n",
       "      <th>0</th>\n",
       "      <td>BOMBAY BEGUM</td>\n",
       "      <td>Men</td>\n",
       "      <td>Shirts</td>\n",
       "      <td>Spread Collar Shirt with Patch Pocket</td>\n",
       "      <td>440</td>\n",
       "      <td>S</td>\n",
       "      <td>M</td>\n",
       "      <td>L</td>\n",
       "      <td>XL</td>\n",
       "      <td>India</td>\n",
       "      <td>10</td>\n",
       "      <td>Regular</td>\n",
       "    </tr>\n",
       "    <tr>\n",
       "      <th>1</th>\n",
       "      <td>BOMBAY BEGUM</td>\n",
       "      <td>Men</td>\n",
       "      <td>Shirts</td>\n",
       "      <td>Spread Collar Shirt with Patch Pocket</td>\n",
       "      <td>440</td>\n",
       "      <td>S</td>\n",
       "      <td>M</td>\n",
       "      <td>L</td>\n",
       "      <td>XL</td>\n",
       "      <td>India</td>\n",
       "      <td>10</td>\n",
       "      <td>Regular</td>\n",
       "    </tr>\n",
       "    <tr>\n",
       "      <th>2</th>\n",
       "      <td>BOMBAY BEGUM</td>\n",
       "      <td>Men</td>\n",
       "      <td>Shirts</td>\n",
       "      <td>Men Striped Regular Fit Shirt with Short Sleeves</td>\n",
       "      <td>440</td>\n",
       "      <td>S</td>\n",
       "      <td>M</td>\n",
       "      <td>L</td>\n",
       "      <td>XL</td>\n",
       "      <td>India</td>\n",
       "      <td>10</td>\n",
       "      <td>Regular</td>\n",
       "    </tr>\n",
       "    <tr>\n",
       "      <th>3</th>\n",
       "      <td>WUXI</td>\n",
       "      <td>Men</td>\n",
       "      <td>Shirts</td>\n",
       "      <td>Cuban Collar Shirt with Short Sleeves</td>\n",
       "      <td>456</td>\n",
       "      <td>S</td>\n",
       "      <td>M</td>\n",
       "      <td>L</td>\n",
       "      <td>XL</td>\n",
       "      <td>India</td>\n",
       "      <td>10</td>\n",
       "      <td>Regular</td>\n",
       "    </tr>\n",
       "    <tr>\n",
       "      <th>4</th>\n",
       "      <td>THE BEAR HOUSE</td>\n",
       "      <td>Men</td>\n",
       "      <td>Shirts</td>\n",
       "      <td>Men Slim Fit Checked Shirt</td>\n",
       "      <td>1073</td>\n",
       "      <td>S</td>\n",
       "      <td>M</td>\n",
       "      <td>L</td>\n",
       "      <td>XL</td>\n",
       "      <td>India</td>\n",
       "      <td>10</td>\n",
       "      <td>Regular</td>\n",
       "    </tr>\n",
       "  </tbody>\n",
       "</table>\n",
       "</div>"
      ],
      "text/plain": [
       "        BrandName Category ProductType  \\\n",
       "0    BOMBAY BEGUM      Men      Shirts   \n",
       "1    BOMBAY BEGUM      Men      Shirts   \n",
       "2    BOMBAY BEGUM      Men      Shirts   \n",
       "3            WUXI      Men      Shirts   \n",
       "4  THE BEAR HOUSE      Men      Shirts   \n",
       "\n",
       "                                        ProductName Price Size1 Size2 Size3  \\\n",
       "0             Spread Collar Shirt with Patch Pocket   440     S     M     L   \n",
       "1             Spread Collar Shirt with Patch Pocket   440     S     M     L   \n",
       "2  Men Striped Regular Fit Shirt with Short Sleeves   440     S     M     L   \n",
       "3             Cuban Collar Shirt with Short Sleeves   456     S     M     L   \n",
       "4                        Men Slim Fit Checked Shirt  1073     S     M     L   \n",
       "\n",
       "  Size4 CountryofOrigin  Returntime Occasion  \n",
       "0    XL           India          10  Regular  \n",
       "1    XL           India          10  Regular  \n",
       "2    XL           India          10  Regular  \n",
       "3    XL           India          10  Regular  \n",
       "4    XL           India          10  Regular  "
      ]
     },
     "execution_count": 101,
     "metadata": {},
     "output_type": "execute_result"
    }
   ],
   "source": [
    "df_1.head()"
   ]
  },
  {
   "cell_type": "code",
   "execution_count": 102,
   "id": "8126f7ab",
   "metadata": {},
   "outputs": [
    {
     "name": "stdout",
     "output_type": "stream",
     "text": [
      "<class 'pandas.core.frame.DataFrame'>\n",
      "Int64Index: 5114 entries, 0 to 5113\n",
      "Data columns (total 12 columns):\n",
      " #   Column           Non-Null Count  Dtype \n",
      "---  ------           --------------  ----- \n",
      " 0   BrandName        5114 non-null   object\n",
      " 1   Category         5114 non-null   object\n",
      " 2   ProductType      5114 non-null   object\n",
      " 3   ProductName      5114 non-null   object\n",
      " 4   Price            5114 non-null   object\n",
      " 5   Size1            5083 non-null   object\n",
      " 6   Size2            5083 non-null   object\n",
      " 7   Size3            5083 non-null   object\n",
      " 8   Size4            5083 non-null   object\n",
      " 9   CountryofOrigin  5114 non-null   object\n",
      " 10  Returntime       5114 non-null   int64 \n",
      " 11  Occasion         5114 non-null   object\n",
      "dtypes: int64(1), object(11)\n",
      "memory usage: 519.4+ KB\n"
     ]
    }
   ],
   "source": [
    "df_1.info()"
   ]
  },
  {
   "cell_type": "markdown",
   "id": "83a8c333",
   "metadata": {},
   "source": [
    " There are 11 objects and 1 int datatype in this dataset."
   ]
  },
  {
   "cell_type": "code",
   "execution_count": 103,
   "id": "d758df57",
   "metadata": {},
   "outputs": [
    {
     "data": {
      "text/plain": [
       "BrandName           0\n",
       "Category            0\n",
       "ProductType         0\n",
       "ProductName         0\n",
       "Price               0\n",
       "Size1              31\n",
       "Size2              31\n",
       "Size3              31\n",
       "Size4              31\n",
       "CountryofOrigin     0\n",
       "Returntime          0\n",
       "Occasion            0\n",
       "dtype: int64"
      ]
     },
     "execution_count": 103,
     "metadata": {},
     "output_type": "execute_result"
    }
   ],
   "source": [
    "df_1.isnull().sum()"
   ]
  },
  {
   "cell_type": "code",
   "execution_count": 104,
   "id": "b9f9e180",
   "metadata": {},
   "outputs": [
    {
     "name": "stdout",
     "output_type": "stream",
     "text": [
      "NETPLAY                  375\n",
      "DNMX                     287\n",
      "AVAASA MIX N' MATCH      273\n",
      "TEAMSPIRIT               244\n",
      "GAP                      133\n",
      "                        ... \n",
      "LEELI PEERI DESIGNER       1\n",
      "VAAMII                     1\n",
      "AFSANA                     1\n",
      "NEWADHIYA ENTERPRISES      1\n",
      "WEARDO                     1\n",
      "Name: BrandName, Length: 493, dtype: int64 \n",
      "\n",
      "Men      3065\n",
      "Women    2049\n",
      "Name: Category, dtype: int64 \n",
      "\n",
      "Tshirts                 1827\n",
      "Shirts                  1457\n",
      "Kurta Suit Sets          333\n",
      "Kurtas                   298\n",
      "Fusion Wear Sets         182\n",
      "Dresses                  155\n",
      "Tops                     128\n",
      "Trousers & Pants         117\n",
      "Jeans & Jeggings         109\n",
      "Dresses & Gowns           77\n",
      "Leggings                  76\n",
      "Track Pants               63\n",
      "Sarees                    31\n",
      "Co-ord Sets               28\n",
      "Night&LoungeWearSets      25\n",
      "Salwars & Churidars       25\n",
      "Pants                     18\n",
      "Shorts                    17\n",
      "Pyjamas & Shorts          15\n",
      "Sweatshirt & Hoodies      15\n",
      "Skirts                    15\n",
      "Kurtis & Tunics           12\n",
      "Lehenga Choli Sets        10\n",
      "Dupattas                  10\n",
      "Shirts, Tops & Tunic      10\n",
      "Jackets & Coats            8\n",
      "-                          8\n",
      "Suit Sets                  7\n",
      "Dress Material             5\n",
      "Sweaters & Cardigans       5\n",
      "Jumpsuits &Playsuits       5\n",
      "Skirts & Ghagras           4\n",
      "Shrugs & Jackets           4\n",
      "Tracksuits                 4\n",
      "Nightshirts&Nighties       3\n",
      "Jackets & Shrugs           3\n",
      "Kurta-Bottom Set           3\n",
      "Blouses                    1\n",
      "Tops & Tshirts             1\n",
      "Name: ProductType, dtype: int64 \n",
      "\n",
      "Men Checked Slim Fit Shirt                      107\n",
      "Men Checked Slim Fit Shirt with Patch Pocket     82\n",
      "Men Slim Fit Shirt with Patch Pocket             63\n",
      "Slim Fit Shirt with Patch Pocket                 46\n",
      "Ankle-Length Leggings with Elasticated Waist     35\n",
      "                                               ... \n",
      "Regular Fit Quilted Puffer Jacket                 1\n",
      "Flared Pants with Insert Pockets                  1\n",
      "Checked Hooded Shirt with Kangaroo Pocket         1\n",
      "Women Printed A-Line Dress                        1\n",
      "Regular Fit Casual Polo T-Shirt                   1\n",
      "Name: ProductName, Length: 2485, dtype: int64 \n",
      "\n",
      "-       508\n",
      "400     124\n",
      "520     123\n",
      "600     115\n",
      "320     101\n",
      "       ... \n",
      "1911      1\n",
      "1820      1\n",
      "2877      1\n",
      "721       1\n",
      "1095      1\n",
      "Name: Price, Length: 784, dtype: int64 \n",
      "\n",
      "S      2810\n",
      "XS     2022\n",
      "M       201\n",
      "XXS      17\n",
      "3XL      15\n",
      "L        10\n",
      "XXL       3\n",
      "XL        3\n",
      "4XL       1\n",
      "38        1\n",
      "Name: Size1, dtype: int64 \n",
      "\n",
      "M      2806\n",
      "S      2023\n",
      "L       200\n",
      "XS-      16\n",
      "4XL      15\n",
      "-        11\n",
      "XL        7\n",
      "3XL       2\n",
      "5XL       1\n",
      "40        1\n",
      "XS        1\n",
      "Name: Size2, dtype: int64 \n",
      "\n",
      "L      2805\n",
      "M      2023\n",
      "XL      197\n",
      "S        17\n",
      "5XL      15\n",
      "-        14\n",
      "XXL       8\n",
      "4XL       2\n",
      "6XL       1\n",
      "42        1\n",
      "Name: Size3, dtype: int64 \n",
      "\n",
      "XL     2802\n",
      "L      2023\n",
      "XXL     192\n",
      "-        27\n",
      "M        17\n",
      "6XL      11\n",
      "3XL       4\n",
      "7XL       4\n",
      "5XL       2\n",
      "44        1\n",
      "Name: Size4, dtype: int64 \n",
      "\n",
      "India    5114\n",
      "Name: CountryofOrigin, dtype: int64 \n",
      "\n",
      "10    5033\n",
      "7       48\n",
      "0       33\n",
      "Name: Returntime, dtype: int64 \n",
      "\n",
      "Regular        2303\n",
      "celebration    1527\n",
      "Casual         1284\n",
      "Name: Occasion, dtype: int64 \n",
      "\n"
     ]
    }
   ],
   "source": [
    "#Checking value counts of all the columns\n",
    "for i in df_1.columns:\n",
    "    print(df_1[i].value_counts(), ('\\n'))"
   ]
  },
  {
   "cell_type": "markdown",
   "id": "be1e8b6b",
   "metadata": {},
   "source": [
    "Replacing '-' value to null values in all the columns if present"
   ]
  },
  {
   "cell_type": "code",
   "execution_count": 105,
   "id": "c7b3a7f1",
   "metadata": {},
   "outputs": [],
   "source": [
    "df_1['BrandName']=df_1['BrandName'].replace('-', np.nan)"
   ]
  },
  {
   "cell_type": "code",
   "execution_count": 106,
   "id": "26a02dc2",
   "metadata": {},
   "outputs": [],
   "source": [
    "df_1['BrandName']=df_1['BrandName'].replace('-', np.nan)"
   ]
  },
  {
   "cell_type": "code",
   "execution_count": 107,
   "id": "d51aeef5",
   "metadata": {},
   "outputs": [],
   "source": [
    "df_1['Category']=df_1['Category'].replace('-', np.nan)"
   ]
  },
  {
   "cell_type": "code",
   "execution_count": 108,
   "id": "58c8c40c",
   "metadata": {},
   "outputs": [],
   "source": [
    "df_1['ProductType']=df_1['ProductType'].replace('-', np.nan)"
   ]
  },
  {
   "cell_type": "code",
   "execution_count": 109,
   "id": "11ec3dd0",
   "metadata": {},
   "outputs": [],
   "source": [
    "df_1['ProductName']=df_1['ProductName'].replace('-', np.nan)"
   ]
  },
  {
   "cell_type": "code",
   "execution_count": 110,
   "id": "9558e3df",
   "metadata": {},
   "outputs": [],
   "source": [
    "df_1['Price']=df_1['Price'].replace('-', np.nan)"
   ]
  },
  {
   "cell_type": "code",
   "execution_count": 111,
   "id": "0ca0c956",
   "metadata": {},
   "outputs": [],
   "source": [
    "df_1['Size1']=df_1['Size1'].replace('-', np.nan)"
   ]
  },
  {
   "cell_type": "code",
   "execution_count": 112,
   "id": "71d0cd39",
   "metadata": {},
   "outputs": [],
   "source": [
    "df_1['Size2']=df_1['Size2'].replace('-', np.nan)"
   ]
  },
  {
   "cell_type": "code",
   "execution_count": 113,
   "id": "48b6b1a1",
   "metadata": {},
   "outputs": [],
   "source": [
    "df_1['Size3']=df_1['Size3'].replace('-', np.nan)"
   ]
  },
  {
   "cell_type": "code",
   "execution_count": 114,
   "id": "2fcab738",
   "metadata": {},
   "outputs": [],
   "source": [
    "df_1['Size4']=df_1['Size4'].replace('-', np.nan)"
   ]
  },
  {
   "cell_type": "code",
   "execution_count": 115,
   "id": "e999d23c",
   "metadata": {},
   "outputs": [],
   "source": [
    "df_1['CountryofOrigin']=df_1['CountryofOrigin'].replace('-', np.nan)"
   ]
  },
  {
   "cell_type": "code",
   "execution_count": 116,
   "id": "468e222e",
   "metadata": {},
   "outputs": [],
   "source": [
    "df_1['Returntime']=df_1['Returntime'].replace('-', np.nan)"
   ]
  },
  {
   "cell_type": "code",
   "execution_count": 117,
   "id": "7b70715c",
   "metadata": {},
   "outputs": [],
   "source": [
    "df_1['Occasion']=df_1['Occasion'].replace('-', np.nan)"
   ]
  },
  {
   "cell_type": "code",
   "execution_count": 118,
   "id": "712a7371",
   "metadata": {},
   "outputs": [
    {
     "data": {
      "text/plain": [
       "BrandName            8\n",
       "Category             0\n",
       "ProductType          8\n",
       "ProductName          8\n",
       "Price              508\n",
       "Size1               31\n",
       "Size2               42\n",
       "Size3               45\n",
       "Size4               58\n",
       "CountryofOrigin      0\n",
       "Returntime           0\n",
       "Occasion             0\n",
       "dtype: int64"
      ]
     },
     "execution_count": 118,
     "metadata": {},
     "output_type": "execute_result"
    }
   ],
   "source": [
    "df_1.isnull().sum()"
   ]
  },
  {
   "cell_type": "code",
   "execution_count": 119,
   "id": "1f4d43eb",
   "metadata": {},
   "outputs": [],
   "source": [
    "#I will use the Mode method to fill the null values.\n",
    "df_1['BrandName']=df_1['BrandName'].fillna(df_1['BrandName'].mode()[0])"
   ]
  },
  {
   "cell_type": "code",
   "execution_count": 120,
   "id": "971184f8",
   "metadata": {},
   "outputs": [],
   "source": [
    "df_1['ProductType']=df_1['ProductType'].fillna(df_1['ProductType'].mode()[0])"
   ]
  },
  {
   "cell_type": "code",
   "execution_count": 121,
   "id": "d384872a",
   "metadata": {},
   "outputs": [],
   "source": [
    "df_1['ProductName']=df_1['ProductName'].fillna(df_1['ProductName'].mode()[0])"
   ]
  },
  {
   "cell_type": "code",
   "execution_count": 122,
   "id": "7e788aa6",
   "metadata": {},
   "outputs": [],
   "source": [
    "df_1['Price']=df_1['Price'].fillna(df_1['Price'].mode()[0])"
   ]
  },
  {
   "cell_type": "code",
   "execution_count": 123,
   "id": "a8b6afb5",
   "metadata": {},
   "outputs": [],
   "source": [
    "df_1['Size1']=df_1['Size1'].fillna(df_1['Size1'].mode()[0])"
   ]
  },
  {
   "cell_type": "code",
   "execution_count": 124,
   "id": "c65c86ab",
   "metadata": {},
   "outputs": [],
   "source": [
    "df_1['Size2']=df_1['Size2'].fillna(df_1['Size2'].mode()[0])"
   ]
  },
  {
   "cell_type": "code",
   "execution_count": 125,
   "id": "b700111e",
   "metadata": {},
   "outputs": [],
   "source": [
    "df_1['Size3']=df_1['Size3'].fillna(df_1['Size3'].mode()[0])"
   ]
  },
  {
   "cell_type": "code",
   "execution_count": 126,
   "id": "e8d5c77e",
   "metadata": {},
   "outputs": [],
   "source": [
    "df_1['Size4']=df_1['Size4'].fillna(df_1['Size4'].mode()[0])"
   ]
  },
  {
   "cell_type": "code",
   "execution_count": 127,
   "id": "d501da83",
   "metadata": {},
   "outputs": [
    {
     "data": {
      "text/plain": [
       "BrandName          0\n",
       "Category           0\n",
       "ProductType        0\n",
       "ProductName        0\n",
       "Price              0\n",
       "Size1              0\n",
       "Size2              0\n",
       "Size3              0\n",
       "Size4              0\n",
       "CountryofOrigin    0\n",
       "Returntime         0\n",
       "Occasion           0\n",
       "dtype: int64"
      ]
     },
     "execution_count": 127,
     "metadata": {},
     "output_type": "execute_result"
    }
   ],
   "source": [
    "df_1.isnull().sum()"
   ]
  },
  {
   "cell_type": "code",
   "execution_count": 128,
   "id": "21b40597",
   "metadata": {},
   "outputs": [],
   "source": [
    "#Converting object to int datatype of Price column\n",
    "df_1['Price']=df_1['Price'].astype(str).astype(int)"
   ]
  },
  {
   "cell_type": "code",
   "execution_count": 129,
   "id": "b4599a5a",
   "metadata": {},
   "outputs": [
    {
     "data": {
      "text/html": [
       "<div>\n",
       "<style scoped>\n",
       "    .dataframe tbody tr th:only-of-type {\n",
       "        vertical-align: middle;\n",
       "    }\n",
       "\n",
       "    .dataframe tbody tr th {\n",
       "        vertical-align: top;\n",
       "    }\n",
       "\n",
       "    .dataframe thead th {\n",
       "        text-align: right;\n",
       "    }\n",
       "</style>\n",
       "<table border=\"1\" class=\"dataframe\">\n",
       "  <thead>\n",
       "    <tr style=\"text-align: right;\">\n",
       "      <th></th>\n",
       "      <th>Price</th>\n",
       "      <th>Returntime</th>\n",
       "    </tr>\n",
       "  </thead>\n",
       "  <tbody>\n",
       "    <tr>\n",
       "      <th>count</th>\n",
       "      <td>5114.000000</td>\n",
       "      <td>5114.000000</td>\n",
       "    </tr>\n",
       "    <tr>\n",
       "      <th>mean</th>\n",
       "      <td>840.250293</td>\n",
       "      <td>9.907313</td>\n",
       "    </tr>\n",
       "    <tr>\n",
       "      <th>std</th>\n",
       "      <td>948.584559</td>\n",
       "      <td>0.849301</td>\n",
       "    </tr>\n",
       "    <tr>\n",
       "      <th>min</th>\n",
       "      <td>102.000000</td>\n",
       "      <td>0.000000</td>\n",
       "    </tr>\n",
       "    <tr>\n",
       "      <th>25%</th>\n",
       "      <td>400.000000</td>\n",
       "      <td>10.000000</td>\n",
       "    </tr>\n",
       "    <tr>\n",
       "      <th>50%</th>\n",
       "      <td>548.000000</td>\n",
       "      <td>10.000000</td>\n",
       "    </tr>\n",
       "    <tr>\n",
       "      <th>75%</th>\n",
       "      <td>899.000000</td>\n",
       "      <td>10.000000</td>\n",
       "    </tr>\n",
       "    <tr>\n",
       "      <th>max</th>\n",
       "      <td>10000.000000</td>\n",
       "      <td>10.000000</td>\n",
       "    </tr>\n",
       "  </tbody>\n",
       "</table>\n",
       "</div>"
      ],
      "text/plain": [
       "              Price   Returntime\n",
       "count   5114.000000  5114.000000\n",
       "mean     840.250293     9.907313\n",
       "std      948.584559     0.849301\n",
       "min      102.000000     0.000000\n",
       "25%      400.000000    10.000000\n",
       "50%      548.000000    10.000000\n",
       "75%      899.000000    10.000000\n",
       "max    10000.000000    10.000000"
      ]
     },
     "execution_count": 129,
     "metadata": {},
     "output_type": "execute_result"
    }
   ],
   "source": [
    "df_1.describe()"
   ]
  },
  {
   "cell_type": "markdown",
   "id": "6dacf17f",
   "metadata": {},
   "source": [
    "There is outliers present in 'Price' Column, because Mean value and q2 value is not matching. I will check this by applying distplot"
   ]
  },
  {
   "cell_type": "code",
   "execution_count": 130,
   "id": "8979e37a",
   "metadata": {},
   "outputs": [
    {
     "data": {
      "text/plain": [
       "0        440\n",
       "1        440\n",
       "2        440\n",
       "3        456\n",
       "4       1073\n",
       "        ... \n",
       "5109     567\n",
       "5110     650\n",
       "5111     604\n",
       "5112     911\n",
       "5113     400\n",
       "Name: Price, Length: 5114, dtype: int32"
      ]
     },
     "execution_count": 130,
     "metadata": {},
     "output_type": "execute_result"
    }
   ],
   "source": [
    "df_1['Price']"
   ]
  },
  {
   "cell_type": "code",
   "execution_count": 131,
   "id": "8fabc7b3",
   "metadata": {},
   "outputs": [
    {
     "data": {
      "text/plain": [
       "<Axes: xlabel='Price', ylabel='Density'>"
      ]
     },
     "execution_count": 131,
     "metadata": {},
     "output_type": "execute_result"
    },
    {
     "data": {
      "image/png": "[encoded data removed]",
      "text/plain": [
       "<Figure size 640x480 with 1 Axes>"
      ]
     },
     "metadata": {},
     "output_type": "display_data"
    }
   ],
   "source": [
    "sns.distplot(df_1['Price'])"
   ]
  },
  {
   "cell_type": "markdown",
   "id": "a2be363d",
   "metadata": {},
   "source": [
    "We can see there are some outliers present in 'Price' colomn.So,I will again check it by using boxplot"
   ]
  },
  {
   "cell_type": "code",
   "execution_count": 72,
   "id": "175769b3",
   "metadata": {},
   "outputs": [
    {
     "data": {
      "text/plain": [
       "<Axes: >"
      ]
     },
     "execution_count": 72,
     "metadata": {},
     "output_type": "execute_result"
    },
    {
     "data": {
      "image/png": "[encoded data removed]",
      "text/plain": [
       "<Figure size 640x480 with 1 Axes>"
      ]
     },
     "metadata": {},
     "output_type": "display_data"
    }
   ],
   "source": [
    "sns.boxplot(df_1['Price'])"
   ]
  },
  {
   "cell_type": "markdown",
   "id": "c7e32e08",
   "metadata": {},
   "source": [
    "In the boxplot also We can see there are outlers present.So, I will try to remove these outlier by using skew method"
   ]
  },
  {
   "cell_type": "code",
   "execution_count": 135,
   "id": "eaf5b88f",
   "metadata": {},
   "outputs": [
    {
     "data": {
      "text/plain": [
       "Price          4.386052\n",
       "Returntime   -10.624678\n",
       "dtype: float64"
      ]
     },
     "execution_count": 135,
     "metadata": {},
     "output_type": "execute_result"
    }
   ],
   "source": [
    "#remove outlier using skew method\n",
    "df_1.skew()"
   ]
  },
  {
   "cell_type": "code",
   "execution_count": 136,
   "id": "d15770ee",
   "metadata": {},
   "outputs": [],
   "source": [
    "df_1['Price']=np.cbrt(df_1['Price'])"
   ]
  },
  {
   "cell_type": "code",
   "execution_count": 138,
   "id": "9739d36d",
   "metadata": {},
   "outputs": [
    {
     "data": {
      "text/plain": [
       "<Axes: >"
      ]
     },
     "execution_count": 138,
     "metadata": {},
     "output_type": "execute_result"
    },
    {
     "data": {
      "image/png": "[encoded data removed]",
      "text/plain": [
       "<Figure size 640x480 with 1 Axes>"
      ]
     },
     "metadata": {},
     "output_type": "display_data"
    }
   ],
   "source": [
    "sns.boxplot(df_1['Price'])"
   ]
  },
  {
   "cell_type": "markdown",
   "id": "263b63e6",
   "metadata": {},
   "source": [
    "Successfully remove outliers from the 'Price' column"
   ]
  },
  {
   "cell_type": "code",
   "execution_count": 140,
   "id": "cea6fe96",
   "metadata": {},
   "outputs": [],
   "source": [
    "#Convertng categorical data to continues data by appling LabelEncoder\n",
    "from sklearn.preprocessing import LabelEncoder\n",
    "le=LabelEncoder()"
   ]
  },
  {
   "cell_type": "code",
   "execution_count": 142,
   "id": "1609bfb8",
   "metadata": {},
   "outputs": [],
   "source": [
    "for i in df_1[list(df_1.select_dtypes(include='object'))]:\n",
    "    data=le.fit_transform(df_1[i])\n",
    "    df_1[i]=data"
   ]
  },
  {
   "cell_type": "code",
   "execution_count": 143,
   "id": "f0c9798d",
   "metadata": {},
   "outputs": [
    {
     "data": {
      "text/html": [
       "<div>\n",
       "<style scoped>\n",
       "    .dataframe tbody tr th:only-of-type {\n",
       "        vertical-align: middle;\n",
       "    }\n",
       "\n",
       "    .dataframe tbody tr th {\n",
       "        vertical-align: top;\n",
       "    }\n",
       "\n",
       "    .dataframe thead th {\n",
       "        text-align: right;\n",
       "    }\n",
       "</style>\n",
       "<table border=\"1\" class=\"dataframe\">\n",
       "  <thead>\n",
       "    <tr style=\"text-align: right;\">\n",
       "      <th></th>\n",
       "      <th>BrandName</th>\n",
       "      <th>Category</th>\n",
       "      <th>ProductType</th>\n",
       "      <th>ProductName</th>\n",
       "      <th>Price</th>\n",
       "      <th>Size1</th>\n",
       "      <th>Size2</th>\n",
       "      <th>Size3</th>\n",
       "      <th>Size4</th>\n",
       "      <th>CountryofOrigin</th>\n",
       "      <th>Returntime</th>\n",
       "      <th>Occasion</th>\n",
       "    </tr>\n",
       "  </thead>\n",
       "  <tbody>\n",
       "    <tr>\n",
       "      <th>0</th>\n",
       "      <td>63</td>\n",
       "      <td>0</td>\n",
       "      <td>23</td>\n",
       "      <td>1784</td>\n",
       "      <td>7.605905</td>\n",
       "      <td>5</td>\n",
       "      <td>5</td>\n",
       "      <td>4</td>\n",
       "      <td>7</td>\n",
       "      <td>0</td>\n",
       "      <td>10</td>\n",
       "      <td>1</td>\n",
       "    </tr>\n",
       "    <tr>\n",
       "      <th>1</th>\n",
       "      <td>63</td>\n",
       "      <td>0</td>\n",
       "      <td>23</td>\n",
       "      <td>1784</td>\n",
       "      <td>7.605905</td>\n",
       "      <td>5</td>\n",
       "      <td>5</td>\n",
       "      <td>4</td>\n",
       "      <td>7</td>\n",
       "      <td>0</td>\n",
       "      <td>10</td>\n",
       "      <td>1</td>\n",
       "    </tr>\n",
       "    <tr>\n",
       "      <th>2</th>\n",
       "      <td>63</td>\n",
       "      <td>0</td>\n",
       "      <td>23</td>\n",
       "      <td>1109</td>\n",
       "      <td>7.605905</td>\n",
       "      <td>5</td>\n",
       "      <td>5</td>\n",
       "      <td>4</td>\n",
       "      <td>7</td>\n",
       "      <td>0</td>\n",
       "      <td>10</td>\n",
       "      <td>1</td>\n",
       "    </tr>\n",
       "    <tr>\n",
       "      <th>3</th>\n",
       "      <td>478</td>\n",
       "      <td>0</td>\n",
       "      <td>23</td>\n",
       "      <td>206</td>\n",
       "      <td>7.697002</td>\n",
       "      <td>5</td>\n",
       "      <td>5</td>\n",
       "      <td>4</td>\n",
       "      <td>7</td>\n",
       "      <td>0</td>\n",
       "      <td>10</td>\n",
       "      <td>1</td>\n",
       "    </tr>\n",
       "    <tr>\n",
       "      <th>4</th>\n",
       "      <td>429</td>\n",
       "      <td>0</td>\n",
       "      <td>23</td>\n",
       "      <td>1048</td>\n",
       "      <td>10.237641</td>\n",
       "      <td>5</td>\n",
       "      <td>5</td>\n",
       "      <td>4</td>\n",
       "      <td>7</td>\n",
       "      <td>0</td>\n",
       "      <td>10</td>\n",
       "      <td>1</td>\n",
       "    </tr>\n",
       "  </tbody>\n",
       "</table>\n",
       "</div>"
      ],
      "text/plain": [
       "   BrandName  Category  ProductType  ProductName      Price  Size1  Size2  \\\n",
       "0         63         0           23         1784   7.605905      5      5   \n",
       "1         63         0           23         1784   7.605905      5      5   \n",
       "2         63         0           23         1109   7.605905      5      5   \n",
       "3        478         0           23          206   7.697002      5      5   \n",
       "4        429         0           23         1048  10.237641      5      5   \n",
       "\n",
       "   Size3  Size4  CountryofOrigin  Returntime  Occasion  \n",
       "0      4      7                0          10         1  \n",
       "1      4      7                0          10         1  \n",
       "2      4      7                0          10         1  \n",
       "3      4      7                0          10         1  \n",
       "4      4      7                0          10         1  "
      ]
     },
     "execution_count": 143,
     "metadata": {},
     "output_type": "execute_result"
    }
   ],
   "source": [
    "df_1.head()"
   ]
  },
  {
   "cell_type": "code",
   "execution_count": 145,
   "id": "0ca65617",
   "metadata": {},
   "outputs": [],
   "source": [
    "#'ContryofOrigin' column has only one value. So, I will drop this column. I think this column would not contribute to model building.\n",
    "df_1=df_1.drop('CountryofOrigin', axis=1)"
   ]
  },
  {
   "cell_type": "code",
   "execution_count": 146,
   "id": "c21af990",
   "metadata": {},
   "outputs": [
    {
     "data": {
      "text/html": [
       "<div>\n",
       "<style scoped>\n",
       "    .dataframe tbody tr th:only-of-type {\n",
       "        vertical-align: middle;\n",
       "    }\n",
       "\n",
       "    .dataframe tbody tr th {\n",
       "        vertical-align: top;\n",
       "    }\n",
       "\n",
       "    .dataframe thead th {\n",
       "        text-align: right;\n",
       "    }\n",
       "</style>\n",
       "<table border=\"1\" class=\"dataframe\">\n",
       "  <thead>\n",
       "    <tr style=\"text-align: right;\">\n",
       "      <th></th>\n",
       "      <th>BrandName</th>\n",
       "      <th>Category</th>\n",
       "      <th>ProductType</th>\n",
       "      <th>ProductName</th>\n",
       "      <th>Price</th>\n",
       "      <th>Size1</th>\n",
       "      <th>Size2</th>\n",
       "      <th>Size3</th>\n",
       "      <th>Size4</th>\n",
       "      <th>Returntime</th>\n",
       "      <th>Occasion</th>\n",
       "    </tr>\n",
       "  </thead>\n",
       "  <tbody>\n",
       "    <tr>\n",
       "      <th>0</th>\n",
       "      <td>63</td>\n",
       "      <td>0</td>\n",
       "      <td>23</td>\n",
       "      <td>1784</td>\n",
       "      <td>7.605905</td>\n",
       "      <td>5</td>\n",
       "      <td>5</td>\n",
       "      <td>4</td>\n",
       "      <td>7</td>\n",
       "      <td>10</td>\n",
       "      <td>1</td>\n",
       "    </tr>\n",
       "    <tr>\n",
       "      <th>1</th>\n",
       "      <td>63</td>\n",
       "      <td>0</td>\n",
       "      <td>23</td>\n",
       "      <td>1784</td>\n",
       "      <td>7.605905</td>\n",
       "      <td>5</td>\n",
       "      <td>5</td>\n",
       "      <td>4</td>\n",
       "      <td>7</td>\n",
       "      <td>10</td>\n",
       "      <td>1</td>\n",
       "    </tr>\n",
       "    <tr>\n",
       "      <th>2</th>\n",
       "      <td>63</td>\n",
       "      <td>0</td>\n",
       "      <td>23</td>\n",
       "      <td>1109</td>\n",
       "      <td>7.605905</td>\n",
       "      <td>5</td>\n",
       "      <td>5</td>\n",
       "      <td>4</td>\n",
       "      <td>7</td>\n",
       "      <td>10</td>\n",
       "      <td>1</td>\n",
       "    </tr>\n",
       "    <tr>\n",
       "      <th>3</th>\n",
       "      <td>478</td>\n",
       "      <td>0</td>\n",
       "      <td>23</td>\n",
       "      <td>206</td>\n",
       "      <td>7.697002</td>\n",
       "      <td>5</td>\n",
       "      <td>5</td>\n",
       "      <td>4</td>\n",
       "      <td>7</td>\n",
       "      <td>10</td>\n",
       "      <td>1</td>\n",
       "    </tr>\n",
       "    <tr>\n",
       "      <th>4</th>\n",
       "      <td>429</td>\n",
       "      <td>0</td>\n",
       "      <td>23</td>\n",
       "      <td>1048</td>\n",
       "      <td>10.237641</td>\n",
       "      <td>5</td>\n",
       "      <td>5</td>\n",
       "      <td>4</td>\n",
       "      <td>7</td>\n",
       "      <td>10</td>\n",
       "      <td>1</td>\n",
       "    </tr>\n",
       "  </tbody>\n",
       "</table>\n",
       "</div>"
      ],
      "text/plain": [
       "   BrandName  Category  ProductType  ProductName      Price  Size1  Size2  \\\n",
       "0         63         0           23         1784   7.605905      5      5   \n",
       "1         63         0           23         1784   7.605905      5      5   \n",
       "2         63         0           23         1109   7.605905      5      5   \n",
       "3        478         0           23          206   7.697002      5      5   \n",
       "4        429         0           23         1048  10.237641      5      5   \n",
       "\n",
       "   Size3  Size4  Returntime  Occasion  \n",
       "0      4      7          10         1  \n",
       "1      4      7          10         1  \n",
       "2      4      7          10         1  \n",
       "3      4      7          10         1  \n",
       "4      4      7          10         1  "
      ]
     },
     "execution_count": 146,
     "metadata": {},
     "output_type": "execute_result"
    }
   ],
   "source": [
    "df_1.head()"
   ]
  },
  {
   "cell_type": "code",
   "execution_count": 148,
   "id": "7cd3c347",
   "metadata": {},
   "outputs": [],
   "source": [
    "#Now I am checking if there is any multicollinearity problem in columns by using VIF technique.\n",
    "x=df_1.drop('Price', axis=1)"
   ]
  },
  {
   "cell_type": "code",
   "execution_count": 151,
   "id": "7fdfa144",
   "metadata": {},
   "outputs": [],
   "source": [
    "from sklearn.preprocessing import StandardScaler\n",
    "from statsmodels.stats.outliers_influence import variance_inflation_factor\n",
    "scaler=StandardScaler()"
   ]
  },
  {
   "cell_type": "code",
   "execution_count": 152,
   "id": "1f8799cf",
   "metadata": {},
   "outputs": [],
   "source": [
    "x_scaled=scaler.fit_transform(x)"
   ]
  },
  {
   "cell_type": "code",
   "execution_count": 153,
   "id": "42084ffe",
   "metadata": {},
   "outputs": [
    {
     "data": {
      "text/html": [
       "<div>\n",
       "<style scoped>\n",
       "    .dataframe tbody tr th:only-of-type {\n",
       "        vertical-align: middle;\n",
       "    }\n",
       "\n",
       "    .dataframe tbody tr th {\n",
       "        vertical-align: top;\n",
       "    }\n",
       "\n",
       "    .dataframe thead th {\n",
       "        text-align: right;\n",
       "    }\n",
       "</style>\n",
       "<table border=\"1\" class=\"dataframe\">\n",
       "  <thead>\n",
       "    <tr style=\"text-align: right;\">\n",
       "      <th></th>\n",
       "      <th>vif</th>\n",
       "      <th>Feature</th>\n",
       "    </tr>\n",
       "  </thead>\n",
       "  <tbody>\n",
       "    <tr>\n",
       "      <th>0</th>\n",
       "      <td>1.076067</td>\n",
       "      <td>BrandName</td>\n",
       "    </tr>\n",
       "    <tr>\n",
       "      <th>1</th>\n",
       "      <td>2.214815</td>\n",
       "      <td>Category</td>\n",
       "    </tr>\n",
       "    <tr>\n",
       "      <th>2</th>\n",
       "      <td>2.582742</td>\n",
       "      <td>ProductType</td>\n",
       "    </tr>\n",
       "    <tr>\n",
       "      <th>3</th>\n",
       "      <td>1.062749</td>\n",
       "      <td>ProductName</td>\n",
       "    </tr>\n",
       "    <tr>\n",
       "      <th>4</th>\n",
       "      <td>12.765986</td>\n",
       "      <td>Size1</td>\n",
       "    </tr>\n",
       "    <tr>\n",
       "      <th>5</th>\n",
       "      <td>7.775363</td>\n",
       "      <td>Size2</td>\n",
       "    </tr>\n",
       "    <tr>\n",
       "      <th>6</th>\n",
       "      <td>1.257868</td>\n",
       "      <td>Size3</td>\n",
       "    </tr>\n",
       "    <tr>\n",
       "      <th>7</th>\n",
       "      <td>4.163491</td>\n",
       "      <td>Size4</td>\n",
       "    </tr>\n",
       "    <tr>\n",
       "      <th>8</th>\n",
       "      <td>1.014278</td>\n",
       "      <td>Returntime</td>\n",
       "    </tr>\n",
       "    <tr>\n",
       "      <th>9</th>\n",
       "      <td>2.209512</td>\n",
       "      <td>Occasion</td>\n",
       "    </tr>\n",
       "  </tbody>\n",
       "</table>\n",
       "</div>"
      ],
      "text/plain": [
       "         vif      Feature\n",
       "0   1.076067    BrandName\n",
       "1   2.214815     Category\n",
       "2   2.582742  ProductType\n",
       "3   1.062749  ProductName\n",
       "4  12.765986        Size1\n",
       "5   7.775363        Size2\n",
       "6   1.257868        Size3\n",
       "7   4.163491        Size4\n",
       "8   1.014278   Returntime\n",
       "9   2.209512     Occasion"
      ]
     },
     "execution_count": 153,
     "metadata": {},
     "output_type": "execute_result"
    }
   ],
   "source": [
    "vif=pd.DataFrame()\n",
    "vif['vif']=[variance_inflation_factor(x_scaled, i) for i in range(x_scaled.shape[1])]\n",
    "vif['Feature']=x.columns\n",
    "vif"
   ]
  },
  {
   "cell_type": "markdown",
   "id": "9150e089",
   "metadata": {},
   "source": [
    "'Size1' column has highest vif value. Now, I will try to check in heatmap also to confirm multicollinearity issue. "
   ]
  },
  {
   "cell_type": "code",
   "execution_count": 154,
   "id": "0592f44c",
   "metadata": {},
   "outputs": [],
   "source": [
    "#Now I will check Multicollinearity issue in independend variables\n",
    "df_corr=df_1.corr().abs()"
   ]
  },
  {
   "cell_type": "code",
   "execution_count": 155,
   "id": "a94334e5",
   "metadata": {},
   "outputs": [
    {
     "data": {
      "text/plain": [
       "<Axes: >"
      ]
     },
     "execution_count": 155,
     "metadata": {},
     "output_type": "execute_result"
    },
    {
     "data": {
      "image/png": "[encoded data removed]",
      "text/plain": [
       "<Figure size 1400x800 with 2 Axes>"
      ]
     },
     "metadata": {},
     "output_type": "display_data"
    }
   ],
   "source": [
    "plt.figure(figsize=(14,8))\n",
    "sns.heatmap(df_corr, annot=True, annot_kws={'size':10})"
   ]
  },
  {
   "cell_type": "markdown",
   "id": "01dd5016",
   "metadata": {},
   "source": [
    "In heatmap also I can see 'Size1' column has highest value.So, I will drop this column"
   ]
  },
  {
   "cell_type": "code",
   "execution_count": 156,
   "id": "3e93a8d4",
   "metadata": {},
   "outputs": [],
   "source": [
    "df_1=df_1.drop('Size1', axis=1)"
   ]
  },
  {
   "cell_type": "code",
   "execution_count": 157,
   "id": "ba5fa873",
   "metadata": {},
   "outputs": [
    {
     "data": {
      "text/html": [
       "<div>\n",
       "<style scoped>\n",
       "    .dataframe tbody tr th:only-of-type {\n",
       "        vertical-align: middle;\n",
       "    }\n",
       "\n",
       "    .dataframe tbody tr th {\n",
       "        vertical-align: top;\n",
       "    }\n",
       "\n",
       "    .dataframe thead th {\n",
       "        text-align: right;\n",
       "    }\n",
       "</style>\n",
       "<table border=\"1\" class=\"dataframe\">\n",
       "  <thead>\n",
       "    <tr style=\"text-align: right;\">\n",
       "      <th></th>\n",
       "      <th>BrandName</th>\n",
       "      <th>Category</th>\n",
       "      <th>ProductType</th>\n",
       "      <th>ProductName</th>\n",
       "      <th>Price</th>\n",
       "      <th>Size2</th>\n",
       "      <th>Size3</th>\n",
       "      <th>Size4</th>\n",
       "      <th>Returntime</th>\n",
       "      <th>Occasion</th>\n",
       "    </tr>\n",
       "  </thead>\n",
       "  <tbody>\n",
       "    <tr>\n",
       "      <th>0</th>\n",
       "      <td>63</td>\n",
       "      <td>0</td>\n",
       "      <td>23</td>\n",
       "      <td>1784</td>\n",
       "      <td>7.605905</td>\n",
       "      <td>5</td>\n",
       "      <td>4</td>\n",
       "      <td>7</td>\n",
       "      <td>10</td>\n",
       "      <td>1</td>\n",
       "    </tr>\n",
       "    <tr>\n",
       "      <th>1</th>\n",
       "      <td>63</td>\n",
       "      <td>0</td>\n",
       "      <td>23</td>\n",
       "      <td>1784</td>\n",
       "      <td>7.605905</td>\n",
       "      <td>5</td>\n",
       "      <td>4</td>\n",
       "      <td>7</td>\n",
       "      <td>10</td>\n",
       "      <td>1</td>\n",
       "    </tr>\n",
       "    <tr>\n",
       "      <th>2</th>\n",
       "      <td>63</td>\n",
       "      <td>0</td>\n",
       "      <td>23</td>\n",
       "      <td>1109</td>\n",
       "      <td>7.605905</td>\n",
       "      <td>5</td>\n",
       "      <td>4</td>\n",
       "      <td>7</td>\n",
       "      <td>10</td>\n",
       "      <td>1</td>\n",
       "    </tr>\n",
       "    <tr>\n",
       "      <th>3</th>\n",
       "      <td>478</td>\n",
       "      <td>0</td>\n",
       "      <td>23</td>\n",
       "      <td>206</td>\n",
       "      <td>7.697002</td>\n",
       "      <td>5</td>\n",
       "      <td>4</td>\n",
       "      <td>7</td>\n",
       "      <td>10</td>\n",
       "      <td>1</td>\n",
       "    </tr>\n",
       "    <tr>\n",
       "      <th>4</th>\n",
       "      <td>429</td>\n",
       "      <td>0</td>\n",
       "      <td>23</td>\n",
       "      <td>1048</td>\n",
       "      <td>10.237641</td>\n",
       "      <td>5</td>\n",
       "      <td>4</td>\n",
       "      <td>7</td>\n",
       "      <td>10</td>\n",
       "      <td>1</td>\n",
       "    </tr>\n",
       "  </tbody>\n",
       "</table>\n",
       "</div>"
      ],
      "text/plain": [
       "   BrandName  Category  ProductType  ProductName      Price  Size2  Size3  \\\n",
       "0         63         0           23         1784   7.605905      5      4   \n",
       "1         63         0           23         1784   7.605905      5      4   \n",
       "2         63         0           23         1109   7.605905      5      4   \n",
       "3        478         0           23          206   7.697002      5      4   \n",
       "4        429         0           23         1048  10.237641      5      4   \n",
       "\n",
       "   Size4  Returntime  Occasion  \n",
       "0      7          10         1  \n",
       "1      7          10         1  \n",
       "2      7          10         1  \n",
       "3      7          10         1  \n",
       "4      7          10         1  "
      ]
     },
     "execution_count": 157,
     "metadata": {},
     "output_type": "execute_result"
    }
   ],
   "source": [
    "df_1.head()"
   ]
  },
  {
   "cell_type": "markdown",
   "id": "f9de140e",
   "metadata": {},
   "source": [
    "# Now I have completed my EDA activity. Now I am ready to build the model as per the problem statement. "
   ]
  },
  {
   "cell_type": "code",
   "execution_count": 159,
   "id": "598f603b",
   "metadata": {},
   "outputs": [],
   "source": [
    "x=df_1.drop('Price', axis=1)\n",
    "y=df_1.Price"
   ]
  },
  {
   "cell_type": "code",
   "execution_count": 160,
   "id": "7cfed1f0",
   "metadata": {},
   "outputs": [],
   "source": [
    "x_scaled=scaler.fit_transform(x)"
   ]
  },
  {
   "cell_type": "code",
   "execution_count": 161,
   "id": "91b8a26d",
   "metadata": {},
   "outputs": [],
   "source": [
    "from sklearn.model_selection import train_test_split as tts\n",
    "from sklearn.linear_model import LinearRegression\n",
    "from sklearn.ensemble import RandomForestRegressor\n",
    "from sklearn.tree import DecisionTreeRegressor\n",
    "from sklearn.neighbors import KNeighborsRegressor as KNN\n",
    "from sklearn.linear_model import Lasso,Ridge\n",
    "from sklearn.ensemble import ExtraTreesRegressor\n",
    "from sklearn.svm import SVR\n",
    "from sklearn.ensemble import GradientBoostingRegressor\n",
    "from sklearn.metrics import mean_absolute_error, mean_squared_error, r2_score"
   ]
  },
  {
   "cell_type": "code",
   "execution_count": 162,
   "id": "6d631c5c",
   "metadata": {},
   "outputs": [],
   "source": [
    "lr=LinearRegression()\n",
    "rfr=RandomForestRegressor()\n",
    "dtr=DecisionTreeRegressor()\n",
    "knn=KNN()\n",
    "ls=Lasso()\n",
    "rd=Ridge()\n",
    "etr=ExtraTreesRegressor()\n",
    "svr=SVR()\n",
    "gdr=GradientBoostingRegressor()"
   ]
  },
  {
   "cell_type": "code",
   "execution_count": 163,
   "id": "b5b74691",
   "metadata": {},
   "outputs": [],
   "source": [
    "mdl=[lr,rfr,dtr,knn,ls,rd,etr,svr,gdr]"
   ]
  },
  {
   "cell_type": "code",
   "execution_count": 164,
   "id": "987b97bd",
   "metadata": {},
   "outputs": [
    {
     "name": "stdout",
     "output_type": "stream",
     "text": [
      "r2_score of Train Data: 5.488589900920083\n",
      "r2_score of Test Data: 5.241040578887013\n",
      "Model Name:  LinearRegression()\n",
      "\n",
      "\n",
      "r2_score of Train Data: 91.39890049945988\n",
      "r2_score of Test Data: 50.24924662337169\n",
      "Model Name:  RandomForestRegressor()\n",
      "\n",
      "\n",
      "r2_score of Train Data: 97.14505352127794\n",
      "r2_score of Test Data: 19.933680343465245\n",
      "Model Name:  DecisionTreeRegressor()\n",
      "\n",
      "\n",
      "r2_score of Train Data: 47.331313377185516\n",
      "r2_score of Test Data: 25.410508989862336\n",
      "Model Name:  KNeighborsRegressor()\n",
      "\n",
      "\n",
      "r2_score of Train Data: 0.0\n",
      "r2_score of Test Data: -0.00014500676048800898\n",
      "Model Name:  Lasso()\n",
      "\n",
      "\n",
      "r2_score of Train Data: 5.48858798813977\n",
      "r2_score of Test Data: 5.241239638879048\n",
      "Model Name:  Ridge()\n",
      "\n",
      "\n",
      "r2_score of Train Data: 97.14505352127794\n",
      "r2_score of Test Data: 41.56237723623358\n",
      "Model Name:  ExtraTreesRegressor()\n",
      "\n",
      "\n",
      "r2_score of Train Data: 3.3459383322169023\n",
      "r2_score of Test Data: 2.939036803223982\n",
      "Model Name:  SVR()\n",
      "\n",
      "\n",
      "r2_score of Train Data: 51.53922176414455\n",
      "r2_score of Test Data: 48.61626505749267\n",
      "Model Name:  GradientBoostingRegressor()\n",
      "\n",
      "\n"
     ]
    }
   ],
   "source": [
    "for i in range(1, 200):\n",
    "    x_train, x_test, y_train, y_test=tts(x_scaled, y, test_size=0.25, random_state=i)\n",
    "    for i in mdl:\n",
    "        i.fit(x_train, y_train)\n",
    "        y_pred=i.predict(x_train)\n",
    "        tacc=r2_score(y_train, y_pred)\n",
    "        print('r2_score of Train Data:',tacc*100)\n",
    "        pred=i.predict(x_test)\n",
    "        acc=r2_score(y_test, pred)\n",
    "        print('r2_score of Test Data:',acc*100)\n",
    "        print('Model Name: ',i)\n",
    "        print('\\n')\n",
    "    break"
   ]
  },
  {
   "cell_type": "markdown",
   "id": "12a3653f",
   "metadata": {},
   "source": [
    "As per above r2_score I think RandomForestRegressor has given best score."
   ]
  },
  {
   "cell_type": "markdown",
   "id": "cb0e8bf9",
   "metadata": {},
   "source": [
    "So, I will use this model to check CV socre."
   ]
  },
  {
   "cell_type": "code",
   "execution_count": 201,
   "id": "ce0329f8",
   "metadata": {},
   "outputs": [],
   "source": [
    "from sklearn.model_selection import cross_val_score"
   ]
  },
  {
   "cell_type": "code",
   "execution_count": 167,
   "id": "e97e4df6",
   "metadata": {},
   "outputs": [],
   "source": [
    "ypred=gdr.predict(x_test)"
   ]
  },
  {
   "cell_type": "code",
   "execution_count": 168,
   "id": "e17b22c2",
   "metadata": {},
   "outputs": [
    {
     "name": "stdout",
     "output_type": "stream",
     "text": [
      "Difference between r2 score & Cross Validation Score is 0.13378444955216723\n"
     ]
    }
   ],
   "source": [
    "print(\"Difference between r2 score & Cross Validation Score is\", r2_score(y_test,ypred)-(score.mean()))"
   ]
  },
  {
   "cell_type": "markdown",
   "id": "a2f267e3",
   "metadata": {},
   "source": [
    "CV score and GradientBoostingRegreessor has not much differences.\n",
    "Now I am try to hypertuing the parameter of GradientBoostingRegressor model."
   ]
  },
  {
   "cell_type": "code",
   "execution_count": 170,
   "id": "c84dc441",
   "metadata": {},
   "outputs": [],
   "source": [
    "from sklearn.model_selection import GridSearchCV"
   ]
  },
  {
   "cell_type": "code",
   "execution_count": 188,
   "id": "afcd9bde",
   "metadata": {},
   "outputs": [],
   "source": [
    "score=cross_val_score(rfr, x_scaled,y)"
   ]
  },
  {
   "cell_type": "code",
   "execution_count": 189,
   "id": "bf5aaac8",
   "metadata": {},
   "outputs": [],
   "source": [
    "ypred=rfr.predict(x_test)"
   ]
  },
  {
   "cell_type": "code",
   "execution_count": 190,
   "id": "c25a5c79",
   "metadata": {},
   "outputs": [
    {
     "name": "stdout",
     "output_type": "stream",
     "text": [
      "Difference between r2 score & Cross Validation Score is 0.15789265650477124\n"
     ]
    }
   ],
   "source": [
    "print(\"Difference between r2 score & Cross Validation Score is\", r2_score(y_test,ypred)-(score.mean()))"
   ]
  },
  {
   "cell_type": "markdown",
   "id": "f9d41925",
   "metadata": {},
   "source": [
    "CV score and RandomForestRegressor score has not much differences. Now I am try to hypertuing the parameter of RandomForestRegressor model."
   ]
  },
  {
   "cell_type": "code",
   "execution_count": 194,
   "id": "a69b9e39",
   "metadata": {},
   "outputs": [],
   "source": [
    "param={'n_estimators': [5,10,15],\n",
    "       'criterion':['poisson', 'squared_error', 'absolute_error'],\n",
    "       'max_features':['sqrt', 'log2'],\n",
    "       'max_depth':[3,6,9],\n",
    "       'max_leaf_nodes': [3, 6, 9]}"
   ]
  },
  {
   "cell_type": "code",
   "execution_count": 195,
   "id": "c4a53208",
   "metadata": {},
   "outputs": [],
   "source": [
    "grd=GridSearchCV(RandomForestRegressor(), param_grid=param)"
   ]
  },
  {
   "cell_type": "code",
   "execution_count": 196,
   "id": "ad42f93e",
   "metadata": {},
   "outputs": [
    {
     "data": {
      "text/html": [
       "<style>#sk-container-id-2 {color: black;background-color: white;}#sk-container-id-2 pre{padding: 0;}#sk-container-id-2 div.sk-toggleable {background-color: white;}#sk-container-id-2 label.sk-toggleable__label {cursor: pointer;display: block;width: 100%;margin-bottom: 0;padding: 0.3em;box-sizing: border-box;text-align: center;}#sk-container-id-2 label.sk-toggleable__label-arrow:before {content: \"▸\";float: left;margin-right: 0.25em;color: #696969;}#sk-container-id-2 label.sk-toggleable__label-arrow:hover:before {color: black;}#sk-container-id-2 div.sk-estimator:hover label.sk-toggleable__label-arrow:before {color: black;}#sk-container-id-2 div.sk-toggleable__content {max-height: 0;max-width: 0;overflow: hidden;text-align: left;background-color: #f0f8ff;}#sk-container-id-2 div.sk-toggleable__content pre {margin: 0.2em;color: black;border-radius: 0.25em;background-color: #f0f8ff;}#sk-container-id-2 input.sk-toggleable__control:checked~div.sk-toggleable__content {max-height: 200px;max-width: 100%;overflow: auto;}#sk-container-id-2 input.sk-toggleable__control:checked~label.sk-toggleable__label-arrow:before {content: \"▾\";}#sk-container-id-2 div.sk-estimator input.sk-toggleable__control:checked~label.sk-toggleable__label {background-color: #d4ebff;}#sk-container-id-2 div.sk-label input.sk-toggleable__control:checked~label.sk-toggleable__label {background-color: #d4ebff;}#sk-container-id-2 input.sk-hidden--visually {border: 0;clip: rect(1px 1px 1px 1px);clip: rect(1px, 1px, 1px, 1px);height: 1px;margin: -1px;overflow: hidden;padding: 0;position: absolute;width: 1px;}#sk-container-id-2 div.sk-estimator {font-family: monospace;background-color: #f0f8ff;border: 1px dotted black;border-radius: 0.25em;box-sizing: border-box;margin-bottom: 0.5em;}#sk-container-id-2 div.sk-estimator:hover {background-color: #d4ebff;}#sk-container-id-2 div.sk-parallel-item::after {content: \"\";width: 100%;border-bottom: 1px solid gray;flex-grow: 1;}#sk-container-id-2 div.sk-label:hover label.sk-toggleable__label {background-color: #d4ebff;}#sk-container-id-2 div.sk-serial::before {content: \"\";position: absolute;border-left: 1px solid gray;box-sizing: border-box;top: 0;bottom: 0;left: 50%;z-index: 0;}#sk-container-id-2 div.sk-serial {display: flex;flex-direction: column;align-items: center;background-color: white;padding-right: 0.2em;padding-left: 0.2em;position: relative;}#sk-container-id-2 div.sk-item {position: relative;z-index: 1;}#sk-container-id-2 div.sk-parallel {display: flex;align-items: stretch;justify-content: center;background-color: white;position: relative;}#sk-container-id-2 div.sk-item::before, #sk-container-id-2 div.sk-parallel-item::before {content: \"\";position: absolute;border-left: 1px solid gray;box-sizing: border-box;top: 0;bottom: 0;left: 50%;z-index: -1;}#sk-container-id-2 div.sk-parallel-item {display: flex;flex-direction: column;z-index: 1;position: relative;background-color: white;}#sk-container-id-2 div.sk-parallel-item:first-child::after {align-self: flex-end;width: 50%;}#sk-container-id-2 div.sk-parallel-item:last-child::after {align-self: flex-start;width: 50%;}#sk-container-id-2 div.sk-parallel-item:only-child::after {width: 0;}#sk-container-id-2 div.sk-dashed-wrapped {border: 1px dashed gray;margin: 0 0.4em 0.5em 0.4em;box-sizing: border-box;padding-bottom: 0.4em;background-color: white;}#sk-container-id-2 div.sk-label label {font-family: monospace;font-weight: bold;display: inline-block;line-height: 1.2em;}#sk-container-id-2 div.sk-label-container {text-align: center;}#sk-container-id-2 div.sk-container {/* jupyter's `normalize.less` sets `[hidden] { display: none; }` but bootstrap.min.css set `[hidden] { display: none !important; }` so we also need the `!important` here to be able to override the default hidden behavior on the sphinx rendered scikit-learn.org. See: https://github.com/scikit-learn/scikit-learn/issues/21755 */display: inline-block !important;position: relative;}#sk-container-id-2 div.sk-text-repr-fallback {display: none;}</style><div id=\"sk-container-id-2\" class=\"sk-top-container\"><div class=\"sk-text-repr-fallback\"><pre>GridSearchCV(estimator=RandomForestRegressor(),\n",
       "             param_grid={&#x27;criterion&#x27;: [&#x27;poisson&#x27;, &#x27;squared_error&#x27;,\n",
       "                                       &#x27;absolute_error&#x27;],\n",
       "                         &#x27;max_depth&#x27;: [3, 6, 9],\n",
       "                         &#x27;max_features&#x27;: [&#x27;sqrt&#x27;, &#x27;log2&#x27;],\n",
       "                         &#x27;max_leaf_nodes&#x27;: [3, 6, 9],\n",
       "                         &#x27;n_estimators&#x27;: [5, 10, 15]})</pre><b>In a Jupyter environment, please rerun this cell to show the HTML representation or trust the notebook. <br />On GitHub, the HTML representation is unable to render, please try loading this page with nbviewer.org.</b></div><div class=\"sk-container\" hidden><div class=\"sk-item sk-dashed-wrapped\"><div class=\"sk-label-container\"><div class=\"sk-label sk-toggleable\"><input class=\"sk-toggleable__control sk-hidden--visually\" id=\"sk-estimator-id-4\" type=\"checkbox\" ><label for=\"sk-estimator-id-4\" class=\"sk-toggleable__label sk-toggleable__label-arrow\">GridSearchCV</label><div class=\"sk-toggleable__content\"><pre>GridSearchCV(estimator=RandomForestRegressor(),\n",
       "             param_grid={&#x27;criterion&#x27;: [&#x27;poisson&#x27;, &#x27;squared_error&#x27;,\n",
       "                                       &#x27;absolute_error&#x27;],\n",
       "                         &#x27;max_depth&#x27;: [3, 6, 9],\n",
       "                         &#x27;max_features&#x27;: [&#x27;sqrt&#x27;, &#x27;log2&#x27;],\n",
       "                         &#x27;max_leaf_nodes&#x27;: [3, 6, 9],\n",
       "                         &#x27;n_estimators&#x27;: [5, 10, 15]})</pre></div></div></div><div class=\"sk-parallel\"><div class=\"sk-parallel-item\"><div class=\"sk-item\"><div class=\"sk-label-container\"><div class=\"sk-label sk-toggleable\"><input class=\"sk-toggleable__control sk-hidden--visually\" id=\"sk-estimator-id-5\" type=\"checkbox\" ><label for=\"sk-estimator-id-5\" class=\"sk-toggleable__label sk-toggleable__label-arrow\">estimator: RandomForestRegressor</label><div class=\"sk-toggleable__content\"><pre>RandomForestRegressor()</pre></div></div></div><div class=\"sk-serial\"><div class=\"sk-item\"><div class=\"sk-estimator sk-toggleable\"><input class=\"sk-toggleable__control sk-hidden--visually\" id=\"sk-estimator-id-6\" type=\"checkbox\" ><label for=\"sk-estimator-id-6\" class=\"sk-toggleable__label sk-toggleable__label-arrow\">RandomForestRegressor</label><div class=\"sk-toggleable__content\"><pre>RandomForestRegressor()</pre></div></div></div></div></div></div></div></div></div></div>"
      ],
      "text/plain": [
       "GridSearchCV(estimator=RandomForestRegressor(),\n",
       "             param_grid={'criterion': ['poisson', 'squared_error',\n",
       "                                       'absolute_error'],\n",
       "                         'max_depth': [3, 6, 9],\n",
       "                         'max_features': ['sqrt', 'log2'],\n",
       "                         'max_leaf_nodes': [3, 6, 9],\n",
       "                         'n_estimators': [5, 10, 15]})"
      ]
     },
     "execution_count": 196,
     "metadata": {},
     "output_type": "execute_result"
    }
   ],
   "source": [
    "grd.fit(x_train, y_train)"
   ]
  },
  {
   "cell_type": "code",
   "execution_count": 197,
   "id": "3fafad2d",
   "metadata": {},
   "outputs": [
    {
     "data": {
      "text/plain": [
       "{'criterion': 'squared_error',\n",
       " 'max_depth': 9,\n",
       " 'max_features': 'sqrt',\n",
       " 'max_leaf_nodes': 9,\n",
       " 'n_estimators': 15}"
      ]
     },
     "execution_count": 197,
     "metadata": {},
     "output_type": "execute_result"
    }
   ],
   "source": [
    "grd.best_params_"
   ]
  },
  {
   "cell_type": "code",
   "execution_count": 198,
   "id": "2abf0240",
   "metadata": {},
   "outputs": [],
   "source": [
    "price_predict_model=RandomForestRegressor(criterion='squared_error', n_estimators=15, max_features='sqrt', max_depth=9,max_leaf_nodes=9)"
   ]
  },
  {
   "cell_type": "code",
   "execution_count": 199,
   "id": "0c60ce97",
   "metadata": {},
   "outputs": [],
   "source": [
    "price_predict_model.fit(x_train, y_train)\n",
    "pred=price_predict_model.predict(x_test)\n",
    "acc=r2_score(y_test, pred)*100"
   ]
  },
  {
   "cell_type": "code",
   "execution_count": 202,
   "id": "86b9239a",
   "metadata": {},
   "outputs": [
    {
     "name": "stdout",
     "output_type": "stream",
     "text": [
      "After Applying GridSearcchCV the final score of RandomForestRegressor model is:  20.1974608747326\n"
     ]
    }
   ],
   "source": [
    "print('After Applying GridSearcchCV the final score of RandomForestRegressor model is: ', acc)"
   ]
  },
  {
   "cell_type": "markdown",
   "id": "81cb7ba4",
   "metadata": {},
   "source": [
    "## Now, I am going to predict the Occasion as per the problem statement"
   ]
  },
  {
   "cell_type": "code",
   "execution_count": 204,
   "id": "ea193a11",
   "metadata": {},
   "outputs": [],
   "source": [
    "#Seperating features and label\n",
    "x=df_1.drop('Occasion', axis=1)\n",
    "y=df_1.Occasion"
   ]
  },
  {
   "cell_type": "code",
   "execution_count": 205,
   "id": "1ef9e0dd",
   "metadata": {},
   "outputs": [],
   "source": [
    "x_scaled=scaler.fit_transform(x)"
   ]
  },
  {
   "cell_type": "code",
   "execution_count": 206,
   "id": "31624d4d",
   "metadata": {},
   "outputs": [],
   "source": [
    "from sklearn.ensemble import RandomForestClassifier\n",
    "from sklearn.ensemble import ExtraTreesClassifier\n",
    "from sklearn.linear_model import LogisticRegression\n",
    "from sklearn.tree import DecisionTreeClassifier\n",
    "from sklearn.svm import SVC\n",
    "from sklearn.ensemble import GradientBoostingClassifier, AdaBoostClassifier, BaggingClassifier\n",
    "from sklearn.neighbors import KNeighborsClassifier\n",
    "from sklearn.metrics import classification_report, confusion_matrix, roc_curve, accuracy_score\n",
    "from sklearn.model_selection import cross_val_score\n",
    "from sklearn.metrics import accuracy_score\n",
    "from sklearn.model_selection import train_test_split"
   ]
  },
  {
   "cell_type": "code",
   "execution_count": 211,
   "id": "ce96366e",
   "metadata": {},
   "outputs": [],
   "source": [
    "etc=ExtraTreesClassifier()\n",
    "rfc=RandomForestClassifier()\n",
    "dtc=DecisionTreeClassifier()\n",
    "knn=KNeighborsClassifier()\n",
    "lr=LogisticRegression()\n",
    "gbc=GradientBoostingClassifier()\n",
    "abc=AdaBoostClassifier()\n",
    "bc=BaggingClassifier()\n",
    "svc=SVC()"
   ]
  },
  {
   "cell_type": "code",
   "execution_count": 212,
   "id": "2bfa9407",
   "metadata": {},
   "outputs": [],
   "source": [
    "mdl=[rfc,etc,lr,knn,dtc,gbc,abc,bc,svc]"
   ]
  },
  {
   "cell_type": "code",
   "execution_count": 213,
   "id": "8ecb7122",
   "metadata": {},
   "outputs": [
    {
     "name": "stdout",
     "output_type": "stream",
     "text": [
      "Accuracy Score of Train Data: 97.93238334730373\n",
      "Accuracy Score of Test Data: 82.73615635179154\n",
      "Model Name:  RandomForestClassifier()\n",
      "\n",
      "\n",
      "Accuracy Score of Train Data: 97.93238334730373\n",
      "Accuracy Score of Test Data: 82.60586319218241\n",
      "Model Name:  ExtraTreesClassifier()\n",
      "\n",
      "\n",
      "Accuracy Score of Train Data: 78.87678122380554\n",
      "Accuracy Score of Test Data: 76.93811074918567\n",
      "Model Name:  LogisticRegression()\n",
      "\n",
      "\n",
      "Accuracy Score of Train Data: 86.36490639843531\n",
      "Accuracy Score of Test Data: 78.0456026058632\n",
      "Model Name:  KNeighborsClassifier()\n",
      "\n",
      "\n",
      "Accuracy Score of Train Data: 97.93238334730373\n",
      "Accuracy Score of Test Data: 82.47557003257329\n",
      "Model Name:  DecisionTreeClassifier()\n",
      "\n",
      "\n",
      "Accuracy Score of Train Data: 89.85750209555742\n",
      "Accuracy Score of Test Data: 83.97394136807817\n",
      "Model Name:  GradientBoostingClassifier()\n",
      "\n",
      "\n",
      "Accuracy Score of Train Data: 58.060910868957805\n",
      "Accuracy Score of Test Data: 56.67752442996743\n",
      "Model Name:  AdaBoostClassifier()\n",
      "\n",
      "\n",
      "Accuracy Score of Train Data: 97.17798267672534\n",
      "Accuracy Score of Test Data: 83.58306188925081\n",
      "Model Name:  BaggingClassifier()\n",
      "\n",
      "\n",
      "Accuracy Score of Train Data: 80.49734562727019\n",
      "Accuracy Score of Test Data: 77.65472312703582\n",
      "Model Name:  SVC()\n",
      "\n",
      "\n"
     ]
    }
   ],
   "source": [
    "for i in range(1, 200):\n",
    "    x_train, x_test, y_train, y_test=train_test_split(x_scaled, y, test_size=0.30, random_state=i)\n",
    "    for i in mdl:\n",
    "        i.fit(x_train, y_train)\n",
    "        y_pred=i.predict(x_train)\n",
    "        tacc=accuracy_score(y_train, y_pred)\n",
    "        print('Accuracy Score of Train Data:',tacc*100)\n",
    "        pred=i.predict(x_test)\n",
    "        acc=accuracy_score(y_test, pred)\n",
    "        print('Accuracy Score of Test Data:',acc*100)\n",
    "        print('Model Name: ',i)\n",
    "        print('\\n')\n",
    "    break"
   ]
  },
  {
   "cell_type": "markdown",
   "id": "c7c31a88",
   "metadata": {},
   "source": [
    "Almost all models have given good scores except AdaBoostClassifier. So, I will check the CV scores of all the best models."
   ]
  },
  {
   "cell_type": "code",
   "execution_count": 214,
   "id": "21b8f02e",
   "metadata": {},
   "outputs": [],
   "source": [
    "models={'RandomForestClassifier':rfc,'ExtraTreesClassifier':etc,'LogisticRegression':lr,'KNeighborsClassifier':knn,'DecisionTreeClassifier':dtc,'GradientBoostingClassifier':gbc,'SVC':svc,'BaggingClassifier':bc}"
   ]
  },
  {
   "cell_type": "code",
   "execution_count": 216,
   "id": "1a946da9",
   "metadata": {},
   "outputs": [
    {
     "name": "stdout",
     "output_type": "stream",
     "text": [
      "Model Name is : RandomForestClassifier()\n",
      "Score:  [0.97262952 0.94525904 0.8230694  0.58944282 0.59295499]\n",
      "Score Mean:  0.7846711544457899\n",
      "diffrent Between Accuracy Score and CV score is : 0.05832558822521983\n",
      "\n",
      "\n",
      "Model Name is : ExtraTreesClassifier()\n",
      "Score:  [0.9540567  0.93450635 0.83773216 0.59237537 0.60763209]\n",
      "Score Mean:  0.7852605341337113\n",
      "diffrent Between Accuracy Score and CV score is : 0.052524482152933594\n",
      "\n",
      "\n",
      "Model Name is : LogisticRegression()\n",
      "Score:  [0.87878788 0.85043988 0.72238514 0.55620723 0.57729941]\n",
      "Score Mean:  0.7170239099536493\n",
      "diffrent Between Accuracy Score and CV score is : 0.11945817473690445\n",
      "\n",
      "\n",
      "Model Name is : KNeighborsClassifier()\n",
      "Score:  [0.86510264 0.85826002 0.78201369 0.58651026 0.58023483]\n",
      "Score Mean:  0.7344242883350263\n",
      "diffrent Between Accuracy Score and CV score is : 0.09945193316334511\n",
      "\n",
      "\n",
      "Model Name is : DecisionTreeClassifier()\n",
      "Score:  [0.98631476 0.9540567  0.83186706 0.59530792 0.62426614]\n",
      "Score Mean:  0.7983625153753302\n",
      "diffrent Between Accuracy Score and CV score is : 0.03030197973867632\n",
      "\n",
      "\n",
      "Model Name is : GradientBoostingClassifier()\n",
      "Score:  [0.99608993 0.95112414 0.77517107 0.58357771 0.59099804]\n",
      "Score Mean:  0.7793921794805578\n",
      "diffrent Between Accuracy Score and CV score is : 0.055135507815859075\n",
      "\n",
      "\n",
      "Model Name is : AdaBoostClassifier()\n",
      "Score:  [0.99217986 0.70967742 0.80254154 0.48484848 0.35322896]\n",
      "Score Mean:  0.6684952549291923\n",
      "diffrent Between Accuracy Score and CV score is : 0.17059269295354385\n",
      "\n",
      "\n",
      "Model Name is : BaggingClassifier()\n",
      "Score:  [0.99511241 0.95601173 0.83577713 0.58553275 0.60567515]\n",
      "Score Mean:  0.795621832873269\n",
      "diffrent Between Accuracy Score and CV score is : 0.030436799048555008\n",
      "\n",
      "\n",
      "Model Name is : SVC()\n",
      "Score:  [0.84066471 0.8514174  0.72922776 0.54740958 0.53913894]\n",
      "Score Mean:  0.7015716791677905\n",
      "diffrent Between Accuracy Score and CV score is : 0.14077359770517361\n",
      "\n",
      "\n"
     ]
    }
   ],
   "source": [
    "#Cheking CV Score by using for loop on all models.\n",
    "for i in mdl:\n",
    "    score=cross_val_score(i, x_scaled,y)\n",
    "    print('Model Name is :', i)\n",
    "    print('Score: ',score)\n",
    "    print('Score Mean: ',score.mean())\n",
    "    for name, model in models.items():\n",
    "        model.fit(x_train, y_train)\n",
    "        ypred=model.predict(x_test)\n",
    "    print(\"diffrent Between Accuracy Score and CV score is :\" ,accuracy_score(y_test, ypred)-(score.mean()))\n",
    "    print(\"\\n\")"
   ]
  },
  {
   "cell_type": "markdown",
   "id": "c8a43439",
   "metadata": {},
   "source": [
    "DecisionTreeClassifier has given the best score better than other models. Other models are also given good scores, but the highest score is given by DecisionTreeClassifier. So, Now I will try to tunning the parameters of this model and find the best score."
   ]
  },
  {
   "cell_type": "code",
   "execution_count": 227,
   "id": "86350f0f",
   "metadata": {},
   "outputs": [],
   "source": [
    "param={'criterion':['entropy', 'log_loss', 'gini'],\n",
    "      'max_depth':[10,15,20],\n",
    "      'min_samples_split':[10,11,12],\n",
    "      'min_samples_leaf':[5,6,7]}"
   ]
  },
  {
   "cell_type": "code",
   "execution_count": 228,
   "id": "a0e6a9e8",
   "metadata": {},
   "outputs": [],
   "source": [
    "grd=GridSearchCV(dtc, param_grid=param)"
   ]
  },
  {
   "cell_type": "code",
   "execution_count": 229,
   "id": "e1d58110",
   "metadata": {},
   "outputs": [
    {
     "data": {
      "text/html": [
       "<style>#sk-container-id-4 {color: black;background-color: white;}#sk-container-id-4 pre{padding: 0;}#sk-container-id-4 div.sk-toggleable {background-color: white;}#sk-container-id-4 label.sk-toggleable__label {cursor: pointer;display: block;width: 100%;margin-bottom: 0;padding: 0.3em;box-sizing: border-box;text-align: center;}#sk-container-id-4 label.sk-toggleable__label-arrow:before {content: \"▸\";float: left;margin-right: 0.25em;color: #696969;}#sk-container-id-4 label.sk-toggleable__label-arrow:hover:before {color: black;}#sk-container-id-4 div.sk-estimator:hover label.sk-toggleable__label-arrow:before {color: black;}#sk-container-id-4 div.sk-toggleable__content {max-height: 0;max-width: 0;overflow: hidden;text-align: left;background-color: #f0f8ff;}#sk-container-id-4 div.sk-toggleable__content pre {margin: 0.2em;color: black;border-radius: 0.25em;background-color: #f0f8ff;}#sk-container-id-4 input.sk-toggleable__control:checked~div.sk-toggleable__content {max-height: 200px;max-width: 100%;overflow: auto;}#sk-container-id-4 input.sk-toggleable__control:checked~label.sk-toggleable__label-arrow:before {content: \"▾\";}#sk-container-id-4 div.sk-estimator input.sk-toggleable__control:checked~label.sk-toggleable__label {background-color: #d4ebff;}#sk-container-id-4 div.sk-label input.sk-toggleable__control:checked~label.sk-toggleable__label {background-color: #d4ebff;}#sk-container-id-4 input.sk-hidden--visually {border: 0;clip: rect(1px 1px 1px 1px);clip: rect(1px, 1px, 1px, 1px);height: 1px;margin: -1px;overflow: hidden;padding: 0;position: absolute;width: 1px;}#sk-container-id-4 div.sk-estimator {font-family: monospace;background-color: #f0f8ff;border: 1px dotted black;border-radius: 0.25em;box-sizing: border-box;margin-bottom: 0.5em;}#sk-container-id-4 div.sk-estimator:hover {background-color: #d4ebff;}#sk-container-id-4 div.sk-parallel-item::after {content: \"\";width: 100%;border-bottom: 1px solid gray;flex-grow: 1;}#sk-container-id-4 div.sk-label:hover label.sk-toggleable__label {background-color: #d4ebff;}#sk-container-id-4 div.sk-serial::before {content: \"\";position: absolute;border-left: 1px solid gray;box-sizing: border-box;top: 0;bottom: 0;left: 50%;z-index: 0;}#sk-container-id-4 div.sk-serial {display: flex;flex-direction: column;align-items: center;background-color: white;padding-right: 0.2em;padding-left: 0.2em;position: relative;}#sk-container-id-4 div.sk-item {position: relative;z-index: 1;}#sk-container-id-4 div.sk-parallel {display: flex;align-items: stretch;justify-content: center;background-color: white;position: relative;}#sk-container-id-4 div.sk-item::before, #sk-container-id-4 div.sk-parallel-item::before {content: \"\";position: absolute;border-left: 1px solid gray;box-sizing: border-box;top: 0;bottom: 0;left: 50%;z-index: -1;}#sk-container-id-4 div.sk-parallel-item {display: flex;flex-direction: column;z-index: 1;position: relative;background-color: white;}#sk-container-id-4 div.sk-parallel-item:first-child::after {align-self: flex-end;width: 50%;}#sk-container-id-4 div.sk-parallel-item:last-child::after {align-self: flex-start;width: 50%;}#sk-container-id-4 div.sk-parallel-item:only-child::after {width: 0;}#sk-container-id-4 div.sk-dashed-wrapped {border: 1px dashed gray;margin: 0 0.4em 0.5em 0.4em;box-sizing: border-box;padding-bottom: 0.4em;background-color: white;}#sk-container-id-4 div.sk-label label {font-family: monospace;font-weight: bold;display: inline-block;line-height: 1.2em;}#sk-container-id-4 div.sk-label-container {text-align: center;}#sk-container-id-4 div.sk-container {/* jupyter's `normalize.less` sets `[hidden] { display: none; }` but bootstrap.min.css set `[hidden] { display: none !important; }` so we also need the `!important` here to be able to override the default hidden behavior on the sphinx rendered scikit-learn.org. See: https://github.com/scikit-learn/scikit-learn/issues/21755 */display: inline-block !important;position: relative;}#sk-container-id-4 div.sk-text-repr-fallback {display: none;}</style><div id=\"sk-container-id-4\" class=\"sk-top-container\"><div class=\"sk-text-repr-fallback\"><pre>GridSearchCV(estimator=DecisionTreeClassifier(),\n",
       "             param_grid={&#x27;criterion&#x27;: [&#x27;entropy&#x27;, &#x27;log_loss&#x27;, &#x27;gini&#x27;],\n",
       "                         &#x27;max_depth&#x27;: [10, 15, 20],\n",
       "                         &#x27;min_samples_leaf&#x27;: [5, 6, 7],\n",
       "                         &#x27;min_samples_split&#x27;: [10, 11, 12]})</pre><b>In a Jupyter environment, please rerun this cell to show the HTML representation or trust the notebook. <br />On GitHub, the HTML representation is unable to render, please try loading this page with nbviewer.org.</b></div><div class=\"sk-container\" hidden><div class=\"sk-item sk-dashed-wrapped\"><div class=\"sk-label-container\"><div class=\"sk-label sk-toggleable\"><input class=\"sk-toggleable__control sk-hidden--visually\" id=\"sk-estimator-id-10\" type=\"checkbox\" ><label for=\"sk-estimator-id-10\" class=\"sk-toggleable__label sk-toggleable__label-arrow\">GridSearchCV</label><div class=\"sk-toggleable__content\"><pre>GridSearchCV(estimator=DecisionTreeClassifier(),\n",
       "             param_grid={&#x27;criterion&#x27;: [&#x27;entropy&#x27;, &#x27;log_loss&#x27;, &#x27;gini&#x27;],\n",
       "                         &#x27;max_depth&#x27;: [10, 15, 20],\n",
       "                         &#x27;min_samples_leaf&#x27;: [5, 6, 7],\n",
       "                         &#x27;min_samples_split&#x27;: [10, 11, 12]})</pre></div></div></div><div class=\"sk-parallel\"><div class=\"sk-parallel-item\"><div class=\"sk-item\"><div class=\"sk-label-container\"><div class=\"sk-label sk-toggleable\"><input class=\"sk-toggleable__control sk-hidden--visually\" id=\"sk-estimator-id-11\" type=\"checkbox\" ><label for=\"sk-estimator-id-11\" class=\"sk-toggleable__label sk-toggleable__label-arrow\">estimator: DecisionTreeClassifier</label><div class=\"sk-toggleable__content\"><pre>DecisionTreeClassifier()</pre></div></div></div><div class=\"sk-serial\"><div class=\"sk-item\"><div class=\"sk-estimator sk-toggleable\"><input class=\"sk-toggleable__control sk-hidden--visually\" id=\"sk-estimator-id-12\" type=\"checkbox\" ><label for=\"sk-estimator-id-12\" class=\"sk-toggleable__label sk-toggleable__label-arrow\">DecisionTreeClassifier</label><div class=\"sk-toggleable__content\"><pre>DecisionTreeClassifier()</pre></div></div></div></div></div></div></div></div></div></div>"
      ],
      "text/plain": [
       "GridSearchCV(estimator=DecisionTreeClassifier(),\n",
       "             param_grid={'criterion': ['entropy', 'log_loss', 'gini'],\n",
       "                         'max_depth': [10, 15, 20],\n",
       "                         'min_samples_leaf': [5, 6, 7],\n",
       "                         'min_samples_split': [10, 11, 12]})"
      ]
     },
     "execution_count": 229,
     "metadata": {},
     "output_type": "execute_result"
    }
   ],
   "source": [
    "grd.fit(x_train, y_train)"
   ]
  },
  {
   "cell_type": "code",
   "execution_count": 230,
   "id": "36f4986e",
   "metadata": {},
   "outputs": [
    {
     "data": {
      "text/plain": [
       "{'criterion': 'entropy',\n",
       " 'max_depth': 10,\n",
       " 'min_samples_leaf': 6,\n",
       " 'min_samples_split': 10}"
      ]
     },
     "execution_count": 230,
     "metadata": {},
     "output_type": "execute_result"
    }
   ],
   "source": [
    "grd.best_params_"
   ]
  },
  {
   "cell_type": "code",
   "execution_count": 231,
   "id": "75deb47a",
   "metadata": {},
   "outputs": [],
   "source": [
    "occasion_predict_model=DecisionTreeClassifier(criterion='entropy', min_samples_split=10, max_depth=10,min_samples_leaf=6)"
   ]
  },
  {
   "cell_type": "code",
   "execution_count": 233,
   "id": "83b35b2e",
   "metadata": {},
   "outputs": [],
   "source": [
    "occasion_predict_model.fit(x_train, y_train)\n",
    "pred=occasion_predict_model.predict(x_test)\n",
    "acc=accuracy_score(y_test, pred)*100"
   ]
  },
  {
   "cell_type": "code",
   "execution_count": 234,
   "id": "c7ffd63c",
   "metadata": {},
   "outputs": [
    {
     "name": "stdout",
     "output_type": "stream",
     "text": [
      "After Applying GridSearcchCV the final score of DecisionTreeClassifier model is:  83.06188925081433\n"
     ]
    }
   ],
   "source": [
    "print('After Applying GridSearcchCV the final score of DecisionTreeClassifier model is: ', acc)"
   ]
  },
  {
   "cell_type": "code",
   "execution_count": null,
   "id": "eafd4945",
   "metadata": {},
   "outputs": [],
   "source": []
  }
 ],
 "metadata": {
  "kernelspec": {
   "display_name": "Python 3 (ipykernel)",
   "language": "python",
   "name": "python3"
  },
  "language_info": {
   "codemirror_mode": {
    "name": "ipython",
    "version": 3
   },
   "file_extension": ".py",
   "mimetype": "text/x-python",
   "name": "python",
   "nbconvert_exporter": "python",
   "pygments_lexer": "ipython3",
   "version": "3.10.9"
  }
 },
 "nbformat": 4,
 "nbformat_minor": 5
}
